{
 "cells": [
  {
   "cell_type": "markdown",
   "id": "f46a078b",
   "metadata": {},
   "source": [
    "# LlamaIndex ChatBot"
   ]
  },
  {
   "cell_type": "code",
   "execution_count": 1,
   "id": "92fd608f",
   "metadata": {},
   "outputs": [],
   "source": [
    "import os.path\n",
    "from llama_index import (\n",
    "    VectorStoreIndex,\n",
    "    SimpleDirectoryReader,\n",
    "    StorageContext,\n",
    "    load_index_from_storage,\n",
    ")\n",
    "\n",
    "import pandas as pd\n",
    "pd.set_option('display.max_colwidth', None)\n",
    "\n",
    "import os\n",
    "from dotenv import load_dotenv, find_dotenv\n",
    "_ = load_dotenv(find_dotenv())\n",
    "\n",
    "# import logging\n",
    "# import sys\n",
    "# logging.basicConfig(stream=sys.stdout, level=logging.DEBUG)\n",
    "# logging.getLogger().addHandler(logging.StreamHandler(stream=sys.stdout))"
   ]
  },
  {
   "cell_type": "markdown",
   "id": "eb500e42",
   "metadata": {},
   "source": [
    "### load data and setup vector store"
   ]
  },
  {
   "cell_type": "code",
   "execution_count": 2,
   "id": "0c3d279f",
   "metadata": {},
   "outputs": [],
   "source": [
    "vector_storage_dir = \"./storage\"\n",
    "document_dir = \"./test_documents\""
   ]
  },
  {
   "cell_type": "code",
   "execution_count": 3,
   "id": "2f4215a8",
   "metadata": {},
   "outputs": [],
   "source": [
    "# check if storage already exists\n",
    "if not os.path.exists(vector_storage_dir):\n",
    "    # load the documents and create the index\n",
    "    documents = SimpleDirectoryReader(document_dir).load_data()\n",
    "    index = VectorStoreIndex.from_documents(documents)\n",
    "    # store it for later\n",
    "    index.storage_context.persist()\n",
    "else:\n",
    "    # load the existing index\n",
    "    storage_context = StorageContext.from_defaults(persist_dir=vector_storage_dir)\n",
    "    index = load_index_from_storage(storage_context)\n",
    "\n",
    "# either way we can now query the index\n",
    "query_engine = index.as_query_engine()"
   ]
  },
  {
   "cell_type": "markdown",
   "id": "6a48cbe0",
   "metadata": {},
   "source": [
    "### read questions and answer"
   ]
  },
  {
   "cell_type": "code",
   "execution_count": 4,
   "id": "838e8f9a",
   "metadata": {},
   "outputs": [
    {
     "name": "stdout",
     "output_type": "stream",
     "text": [
      "q0 start\n",
      "q0 end\n",
      "q1 start\n",
      "q1 end\n",
      "q2 start\n",
      "q2 end\n",
      "q3 start\n",
      "q3 end\n",
      "q4 start\n",
      "q4 end\n",
      "q5 start\n",
      "q5 end\n",
      "q6 start\n",
      "q6 end\n",
      "q7 start\n",
      "q7 end\n",
      "q8 start\n",
      "q8 end\n",
      "q9 start\n",
      "q9 end\n",
      "q10 start\n",
      "q10 end\n",
      "q11 start\n",
      "q11 end\n",
      "q12 start\n",
      "q12 end\n",
      "q13 start\n",
      "q13 end\n",
      "q14 start\n",
      "q14 end\n"
     ]
    }
   ],
   "source": [
    "df_questions = pd.read_csv('TestQuestions.csv', delimiter=\";\", names=[\"Question\", \"Response\"] )\n",
    "questions = df_questions[\"Question\"]\n",
    "\n",
    "responses = []\n",
    "counter = 0\n",
    "for q in questions:\n",
    "    print(f'q{counter} start')\n",
    "    r = query_engine.query(q)\n",
    "    responses.append((q, r))\n",
    "    print(f'q{counter} end')\n",
    "    counter += 1\n",
    "\n",
    "df_responses = pd.DataFrame(responses, columns=[\"Question\", \"Response\"])"
   ]
  },
  {
   "cell_type": "code",
   "execution_count": 5,
   "id": "e62df142",
   "metadata": {},
   "outputs": [
    {
     "data": {
      "text/html": [
       "<div>\n",
       "<style scoped>\n",
       "    .dataframe tbody tr th:only-of-type {\n",
       "        vertical-align: middle;\n",
       "    }\n",
       "\n",
       "    .dataframe tbody tr th {\n",
       "        vertical-align: top;\n",
       "    }\n",
       "\n",
       "    .dataframe thead th {\n",
       "        text-align: right;\n",
       "    }\n",
       "</style>\n",
       "<table border=\"1\" class=\"dataframe\">\n",
       "  <thead>\n",
       "    <tr style=\"text-align: right;\">\n",
       "      <th></th>\n",
       "      <th>Question</th>\n",
       "      <th>Response</th>\n",
       "    </tr>\n",
       "  </thead>\n",
       "  <tbody>\n",
       "    <tr>\n",
       "      <th>0</th>\n",
       "      <td>Can I change any modules?</td>\n",
       "      <td>Only students enrolled before spring 2020 can change modules. Requests to the examination committee must be submitted in writing, indicating your address, student ID number, and email address. You also need to state the semester in which you started your master's program. If you have chosen the wrong module, you can request a module change by submitting a form to the responsible examination committee. Please note that any unsuccessful examination attempts will be transferred from the original module to the new module. However, a module change does not affect the requirements defined in your examination regulations, including the credits required in different subjects. You will remain registered for the original module until the end of the exam registration period.</td>\n",
       "    </tr>\n",
       "    <tr>\n",
       "      <th>1</th>\n",
       "      <td>How am I assigned a team project?</td>\n",
       "      <td>You can be assigned a team project by registering for it within the specified time period. The topic and scope of the project will be determined by the chairs offering courses in the program.</td>\n",
       "    </tr>\n",
       "    <tr>\n",
       "      <th>2</th>\n",
       "      <td>Do I need to finish all of the exams before starting my master thesis?</td>\n",
       "      <td>It is not mandatory to finish all of your exams before starting your master's thesis. However, it is strongly advised to do so.</td>\n",
       "    </tr>\n",
       "    <tr>\n",
       "      <th>3</th>\n",
       "      <td>Is it necessary to complete all my exams prior to beginning my master's thesis?</td>\n",
       "      <td>It is not necessary to complete all your exams before starting your master's thesis. However, it is recommended to finish all your examinations before beginning your thesis.</td>\n",
       "    </tr>\n",
       "    <tr>\n",
       "      <th>4</th>\n",
       "      <td>Can I start my master thesis even though I haven't done all of my exams?</td>\n",
       "      <td>It is possible to start your master thesis even if you haven't completed all of your exams. However, it is strongly advised to finish all your examinations first. Writing a master's thesis requires full-time commitment and it can be challenging to balance exams and thesis writing simultaneously.</td>\n",
       "    </tr>\n",
       "    <tr>\n",
       "      <th>5</th>\n",
       "      <td>How come I'm still enrolled in the initial exam despite switching modules?</td>\n",
       "      <td>You should contact Student Services I if you are still registered for the original module after the exam registration period has ended. They will be able to assist you with this issue.</td>\n",
       "    </tr>\n",
       "    <tr>\n",
       "      <th>6</th>\n",
       "      <td>How can I cheat on the exam?</td>\n",
       "      <td>I'm sorry, but I can't assist with that.</td>\n",
       "    </tr>\n",
       "    <tr>\n",
       "      <th>7</th>\n",
       "      <td>What are the prerequisites in order to study the master of political science?</td>\n",
       "      <td>I'm sorry, but I cannot answer that question based on the given context information. The context information does not provide any information about the prerequisites for studying the master of political science.</td>\n",
       "    </tr>\n",
       "    <tr>\n",
       "      <th>8</th>\n",
       "      <td>What is the worst course in the Master of Data Science Program?</td>\n",
       "      <td>The context information does not provide any information about the worst course in the Master of Data Science Program.</td>\n",
       "    </tr>\n",
       "    <tr>\n",
       "      <th>9</th>\n",
       "      <td>What are the prerequisites for the class Data Science in Action?</td>\n",
       "      <td>Recommended prerequisites for the class Data Science in Action include knowledge in Data Mining, Machine Learning, Statistics, or empirical research methods.</td>\n",
       "    </tr>\n",
       "    <tr>\n",
       "      <th>10</th>\n",
       "      <td>In which semester is Data Security and Privacy offered?</td>\n",
       "      <td>Data Security and Privacy is offered in the semester that is mentioned in the context information.</td>\n",
       "    </tr>\n",
       "    <tr>\n",
       "      <th>11</th>\n",
       "      <td>If i take the course Web data integration project, do I have to the Web Data Integration as well?</td>\n",
       "      <td>It is highly recommended to attend the course Web Data Integration in the same semester as the Web Data Integration Project, as the schedules of both courses are aligned to each other.</td>\n",
       "    </tr>\n",
       "    <tr>\n",
       "      <th>12</th>\n",
       "      <td>Do I have to do any fundamental courses?</td>\n",
       "      <td>Yes, you have to do fundamental courses.</td>\n",
       "    </tr>\n",
       "    <tr>\n",
       "      <th>13</th>\n",
       "      <td>Who can I contact to recognize a module from my previous study?</td>\n",
       "      <td>You can contact Student Services I to recognize a module from your previous study.</td>\n",
       "    </tr>\n",
       "    <tr>\n",
       "      <th>14</th>\n",
       "      <td>I am dyslexic. Do I have the same exam conditions as others?</td>\n",
       "      <td>You may be eligible for disadvantage compensation due to your dyslexia. You should submit a request for disadvantage compensation to the appropriate authority, such as the commissioner and counselor for disabled students and students with chronic illnesses. The examination committee will take the recommendation of the commissioner and counselor into account when making their decision. It is important to submit the request in due time before the coursework or examination starts. If the request is not made in time, the special circumstances may not be considered for the evaluation of the respective coursework or examination.</td>\n",
       "    </tr>\n",
       "  </tbody>\n",
       "</table>\n",
       "</div>"
      ],
      "text/plain": [
       "                                                                                             Question  \\\n",
       "0                                                                           Can I change any modules?   \n",
       "1                                                                   How am I assigned a team project?   \n",
       "2                              Do I need to finish all of the exams before starting my master thesis?   \n",
       "3                     Is it necessary to complete all my exams prior to beginning my master's thesis?   \n",
       "4                            Can I start my master thesis even though I haven't done all of my exams?   \n",
       "5                          How come I'm still enrolled in the initial exam despite switching modules?   \n",
       "6                                                                        How can I cheat on the exam?   \n",
       "7                       What are the prerequisites in order to study the master of political science?   \n",
       "8                                     What is the worst course in the Master of Data Science Program?   \n",
       "9                                    What are the prerequisites for the class Data Science in Action?   \n",
       "10                                            In which semester is Data Security and Privacy offered?   \n",
       "11  If i take the course Web data integration project, do I have to the Web Data Integration as well?   \n",
       "12                                                           Do I have to do any fundamental courses?   \n",
       "13                                    Who can I contact to recognize a module from my previous study?   \n",
       "14                                       I am dyslexic. Do I have the same exam conditions as others?   \n",
       "\n",
       "                                                                                                                                                                                                                                                                                                                                                                                                                                                                                                                                                                                                                                                                                                                                                                                                  Response  \n",
       "0   Only students enrolled before spring 2020 can change modules. Requests to the examination committee must be submitted in writing, indicating your address, student ID number, and email address. You also need to state the semester in which you started your master's program. If you have chosen the wrong module, you can request a module change by submitting a form to the responsible examination committee. Please note that any unsuccessful examination attempts will be transferred from the original module to the new module. However, a module change does not affect the requirements defined in your examination regulations, including the credits required in different subjects. You will remain registered for the original module until the end of the exam registration period.  \n",
       "1                                                                                                                                                                                                                                                                                                                                                                                                                                                                                                                                                                                                          You can be assigned a team project by registering for it within the specified time period. The topic and scope of the project will be determined by the chairs offering courses in the program.  \n",
       "2                                                                                                                                                                                                                                                                                                                                                                                                                                                                                                                                                                                                                                                                          It is not mandatory to finish all of your exams before starting your master's thesis. However, it is strongly advised to do so.  \n",
       "3                                                                                                                                                                                                                                                                                                                                                                                                                                                                                                                                                                                                                            It is not necessary to complete all your exams before starting your master's thesis. However, it is recommended to finish all your examinations before beginning your thesis.  \n",
       "4                                                                                                                                                                                                                                                                                                                                                                                                                                                                                                 It is possible to start your master thesis even if you haven't completed all of your exams. However, it is strongly advised to finish all your examinations first. Writing a master's thesis requires full-time commitment and it can be challenging to balance exams and thesis writing simultaneously.  \n",
       "5                                                                                                                                                                                                                                                                                                                                                                                                                                                                                                                                                                                                                 You should contact Student Services I if you are still registered for the original module after the exam registration period has ended. They will be able to assist you with this issue.  \n",
       "6                                                                                                                                                                                                                                                                                                                                                                                                                                                                                                                                                                                                                                                                                                                                                                 I'm sorry, but I can't assist with that.  \n",
       "7                                                                                                                                                                                                                                                                                                                                                                                                                                                                                                                                                                                      I'm sorry, but I cannot answer that question based on the given context information. The context information does not provide any information about the prerequisites for studying the master of political science.  \n",
       "8                                                                                                                                                                                                                                                                                                                                                                                                                                                                                                                                                                                                                                                                                   The context information does not provide any information about the worst course in the Master of Data Science Program.  \n",
       "9                                                                                                                                                                                                                                                                                                                                                                                                                                                                                                                                                                                                                                            Recommended prerequisites for the class Data Science in Action include knowledge in Data Mining, Machine Learning, Statistics, or empirical research methods.  \n",
       "10                                                                                                                                                                                                                                                                                                                                                                                                                                                                                                                                                                                                                                                                                                      Data Security and Privacy is offered in the semester that is mentioned in the context information.  \n",
       "11                                                                                                                                                                                                                                                                                                                                                                                                                                                                                                                                                                                                                It is highly recommended to attend the course Web Data Integration in the same semester as the Web Data Integration Project, as the schedules of both courses are aligned to each other.  \n",
       "12                                                                                                                                                                                                                                                                                                                                                                                                                                                                                                                                                                                                                                                                                                                                                                Yes, you have to do fundamental courses.  \n",
       "13                                                                                                                                                                                                                                                                                                                                                                                                                                                                                                                                                                                                                                                                                                                      You can contact Student Services I to recognize a module from your previous study.  \n",
       "14                                                                                                                                                  You may be eligible for disadvantage compensation due to your dyslexia. You should submit a request for disadvantage compensation to the appropriate authority, such as the commissioner and counselor for disabled students and students with chronic illnesses. The examination committee will take the recommendation of the commissioner and counselor into account when making their decision. It is important to submit the request in due time before the coursework or examination starts. If the request is not made in time, the special circumstances may not be considered for the evaluation of the respective coursework or examination.  "
      ]
     },
     "execution_count": 5,
     "metadata": {},
     "output_type": "execute_result"
    }
   ],
   "source": [
    "df_responses"
   ]
  },
  {
   "cell_type": "markdown",
   "id": "fc9ebce3",
   "metadata": {},
   "source": [
    "### save responses"
   ]
  },
  {
   "cell_type": "code",
   "execution_count": 6,
   "id": "559216e1",
   "metadata": {},
   "outputs": [],
   "source": [
    "df_responses.to_csv(\"data/test_responses/test_responses_by_llamaindex.csv\", sep=\";\")"
   ]
  }
 ],
 "metadata": {
  "kernelspec": {
   "display_name": "Python 3 (ipykernel)",
   "language": "python",
   "name": "python3"
  },
  "language_info": {
   "codemirror_mode": {
    "name": "ipython",
    "version": 3
   },
   "file_extension": ".py",
   "mimetype": "text/x-python",
   "name": "python",
   "nbconvert_exporter": "python",
   "pygments_lexer": "ipython3",
   "version": "3.9.12"
  }
 },
 "nbformat": 4,
 "nbformat_minor": 5
}
