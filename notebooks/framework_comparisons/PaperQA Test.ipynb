{
 "cells": [
  {
   "cell_type": "markdown",
   "id": "07a25217",
   "metadata": {},
   "source": [
    "# PaperQA Chatbot"
   ]
  },
  {
   "cell_type": "code",
   "execution_count": 1,
   "id": "4e69e666",
   "metadata": {},
   "outputs": [],
   "source": [
    "# source: https://github.com/whitead/paper-qa\n",
    "\n",
    "import os\n",
    "from os import listdir\n",
    "from dotenv import load_dotenv, find_dotenv\n",
    "_ = load_dotenv(find_dotenv())\n",
    "\n",
    "from paperqa import Docs"
   ]
  },
  {
   "cell_type": "code",
   "execution_count": 4,
   "id": "dd4a1013",
   "metadata": {},
   "outputs": [],
   "source": [
    "import nest_asyncio\n",
    "nest_asyncio.apply()"
   ]
  },
  {
   "cell_type": "code",
   "execution_count": 9,
   "id": "7956a238",
   "metadata": {},
   "outputs": [],
   "source": [
    "import pandas as pd\n",
    "pd.set_option('display.max_colwidth', None)"
   ]
  },
  {
   "cell_type": "markdown",
   "id": "ba8ddabb",
   "metadata": {},
   "source": [
    "### load data"
   ]
  },
  {
   "cell_type": "code",
   "execution_count": 2,
   "id": "89cd98fd",
   "metadata": {},
   "outputs": [
    {
     "name": "stdout",
     "output_type": "stream",
     "text": [
      "adding document: 1/16\n",
      "adding document: 2/16\n",
      "adding document: 3/16\n",
      "adding document: 4/16\n",
      "adding document: 5/16\n",
      "adding document: 6/16\n",
      "adding document: 7/16\n",
      "adding document: 8/16\n",
      "adding document: 9/16\n",
      "adding document: 10/16\n",
      "adding document: 11/16\n",
      "adding document: 12/16\n",
      "adding document: 13/16\n",
      "adding document: 14/16\n",
      "adding document: 15/16\n",
      "adding document: 16/16\n"
     ]
    }
   ],
   "source": [
    "docs_chatbot = Docs(llm='gpt-3.5-turbo')\n",
    "\n",
    "document_dir = \"./test_documents\"\n",
    "documents = [ f'{document_dir}/{d}' for d in listdir(document_dir)]\n",
    "n_docs = len(documents)\n",
    "\n",
    "counter = 1\n",
    "for d in documents:\n",
    "    print(f'adding document: {counter}/{n_docs}')\n",
    "    docs_chatbot.add(d, disable_check=True)\n",
    "    counter +=1"
   ]
  },
  {
   "cell_type": "code",
   "execution_count": 5,
   "id": "ff0b209d",
   "metadata": {},
   "outputs": [
    {
     "data": {
      "text/plain": [
       "Answer(question='How many ECTS do I have to achieve', answer='To determine the number of ECTS credits you need to achieve, you need to consider the requirements of the specific subject areas. In the \"Fundamentals\" subject area, you can earn a maximum of 14 ECTS credits if you pass the examinations (Examination2019). In the \"Data Management\" subject area, you must complete mandatory elective examinations worth 18 ECTS credits (Examination2019). Additionally, you can earn credits by completing modules such as \"Parallel Programming\" and \"Blockchain Security,\" which are worth 6 ECTS each (University2023 pages 36-39). To calculate your provisional average grade, you need to request a Transcript of Records after completing 30 ECTS credits (Examination2017 pages 20-20).', context='University2023 pages 36-39: The relevant information from the text is that the module \"Parallel Programming\" has 6 ECTS and the module \"Blockchain Security\" also has 6 ECTS. (Score: 10)\\n\\nExamination2017 pages 20-20: Students can request a Transcript of Records with a provisional average grade after completing 30 ECTS credits. The provisional average grade is calculated based on the average of all completed and graded modules weighted according to the ECTS credits at the time of the request. This information is relevant to determining the number of ECTS credits required. (Relevance score: 10)\\n\\nUniversity2023 pages 18-21: The text provides information about the module \"IE 500 Data Mining I\" in the Master of Science program in Business Informatics at the University of Mannheim. The module has a level of Master and is worth 6 ECTS. The workload for the module is 56 hours per semester, with 98 hours of self-study. The module covers various topics related to data mining, including goals and principles, data representation and preprocessing, clustering, classification, regression, association analysis, text mining, and systems and applications. The learning outcomes include acquiring basic knowledge of data mining techniques and applications, as well as developing methodological and personal competencies. \\n\\nScore: 10\\n\\nUniversity2023 pages 42-46: IE 630 Anfrageoptimierung: ECTS - 6\\nIE 650 Knowledge Graphs: ECTS - 6\\n\\nScore: 10\\n\\nExamination2019 pages 18-19: In the \"Fundamentals\" subject area, students can choose which examinations to register for and can earn a maximum of 14 ECTS credits if they pass. They can also take additional elective examinations to earn more credits in this subject area. In the \"Data Management\" subject area, students must complete mandatory elective examinations worth 18 ECTS credits. If a student fails a final attempt at an examination in this subject area and cannot take another examination to meet the minimum credit requirement, they will be notified by the examination committee. (100 words)\\n\\nScore: 8\\n\\nValid keys: University2023 pages 36-39, Examination2017 pages 20-20, University2023 pages 18-21, University2023 pages 42-46, Examination2019 pages 18-19', contexts=[Context(context='The relevant information from the text is that the module \"Parallel Programming\" has 6 ECTS and the module \"Blockchain Security\" also has 6 ECTS. (Score: 10)', text=Text(text='ng project (50%)  \\nYou need to pass both the exam and the project in order to \\npass the whole course.  \\nAdmission requirements \\nfor assessment  - \\nDuration of assessment  • 90 minutes written exam  \\n• 30 minutes oral project presentation  \\nLanguage  English  \\nOffering  Fall Semester  \\nLecturer  Juniorprofessor Dr. Roland Leißa  \\nPerson in charge  Juniorprofessor Dr. Roland Leißa  \\nDuration of module  1 Semester  \\nFurther modules  - \\nRange of application  M. Sc. Wirtschaftsinformatik, M.Sc. Mannheim Master in Data \\nScience, Lehramt Informatik  \\nSemester  1st/2nd/3rd semester  \\n \\n  37 \\n CS 661  Parallel Programming  \\nForm of module  Lecture with Exercise  \\nType of module  Specialization Course  \\nLevel  Master  \\nECTS  6 \\nWorkload  Hours per semester present: 56h (4 SWS)  \\nSelf-study: 112h  \\nPrerequisites  Good programming skills.  \\nAim of module  In this course we will talk about various forms of paralleilsm:  \\n• multi -threading  \\n• SIMD vectorization  \\n• GPUs  \\n• distributed systems  \\nIn order to target these hardware architectures, we will also \\ndiscuss several programming languages/systems such as:  \\n• Java  \\n• C/C++  \\n• OpenCL/CUDA  \\n• assembly language  \\n• OpenMP  \\n• MPI \\nLearning outcomes and \\nqualification goals  Expertise:  \\n• Know various forms of parallelism.  \\n(MK1, MK2, MF1, MF3)  \\nMethodological competence:  \\n• Students will be able to use various forms of \\nparallelism in software projects.  \\n (MF1, MF2, MF3)  \\nPersonal competence:  \\n• Learn how to read software documentation.  \\n• Teamwork skills.  \\n(MK01, MK02)  \\nMedia  Lecture slides, exercise sheets, project assignments, software, \\nsoftware documentation  38 \\n Literature  Schmidt, Bertil ; Gonzalez -Dominguez, Jorge; Hundt, Christian; \\nSchlarb, Moritz (2017). Parallel Programming: Concepts and \\nPractice. ISBN -13: 978 -0128498903. ISBN -10: 0128498900.  \\nMethods  • Lecture  \\n• Weekly Exercise  \\nForm of assessment  Written examination  (90 minutes)  \\nAdmission requirements \\nfor assessment  ≥ 50% points in homework assignments in groups of 2 -3 \\nstudents  \\nDuration of assessment  90 minutes written exam  \\nLanguage  English  \\nOffering  Spring Semester  \\nLecturer  Junior  Professor Dr. Roland Leißa  \\nPerson in charge  Junior  Professor Dr. Roland Leißa  \\nDuration of module  1 semester  \\nFurther modules  - \\nRange of application  M. Sc. Wirtschaftsinformatik, M.Sc. Mannheim Master in Data \\nScience, Lehramt Informatik  \\nSemester  1st/2nd/3rd semester  \\n \\n  39 \\n CS 664  Blockchain Security  \\nForm of module  \\n Inverted classroom with exercises  \\nType of module  \\n Specialization course  \\nECTS  6 \\nWorkload  Hours per semester present: 56h (4 SWS), Self -study: 112h  \\nPrerequisites  There are no formal prerequisites but knowledge in \\ncryptography and/or IT -security is recommended, e.g., by \\nattending the lectures “Kryptographie I” or “Selected Topics in \\nIT-Security”  \\nAim of module  Blockchains promise secure and reliable data storage and \\nconsensus in a trus tless environment. In the light o', name='University2023 pages 36-39', doc=Doc(docname='University2023', citation='University of Mannheim. \"Master of Science (M.Sc.) \\'Business Informatics\\' - Module Catalog.\" Academic Year HWS 2023/FSS 2024. University of Mannheim, 2023.', dockey='584ca855490fc976b481eeddb4855876'), embeddings=None), score=10), Context(context='Students can request a Transcript of Records with a provisional average grade after completing 30 ECTS credits. The provisional average grade is calculated based on the average of all completed and graded modules weighted according to the ECTS credits at the time of the request. This information is relevant to determining the number of ECTS credits required. (Relevance score: 10)', text=Text(text=' meaning or \\ninterpretation shall prevail. \\n20 \\n (3) 1For the area grades in line with subsection 1(1) as well as the final grade, only the first decimal place \\nshall be of importance; all other decimal places shall be eliminated without rounding up or down. 2In line \\nwith sentence 1, the grades are as follows: \\nin case of an average grade of 1.5 or better = \"very good\" (\"sehr gut\");  \\nin case of an average grade from 1.6 to 2.5 = \"good\" (\"gut\"); \\nin case of an average grade from 2.6 to 3.5 = \"satisfactory\" (\"befriedigend\"); \\nin case of an average grade from 3.6 to 4.0 = \"fair\" (\"ausreichend\"). \\n(4) In case the final grade is 1.2 or better, the student graduates \"with honors\" (\"mit Auszeichnung bestand-\\nen\"). \\n (5) 1Students may request a Transcript of Records with a provisional average grade to be drawn up prior to \\nreceiving their final grade as soon as they have completed 30 ECTS credits. 2The provisional average grade \\nderives from the average of all completed and graded modules weighted according to the ECTS credits at the \\ntime of the request. Subsection 3 applies respectively.  \\nSection 32 – Failure of the Master’s Examination;Confirmation  \\n(1) 1The master\\'s examination is failed with no option to re-sit, if  \\n1. a final attempt at an examination or piece of coursework, which these Examination Regula-\\ntions and the respective attachment have highlighted as being required, has been failed, or \\n2. an examination deadline has been exceeded unless the student is not responsible for having ex-\\nceeded this time limit.  \\nIf a mandatory examination according to sentence 1 no. 1 is failed with no option to re-sit,  the examination \\ncommittee notifies the student, in writing, in accordance with the regulations stated in the Annex. \\n(2) In case of failure of the master\\'s examination and upon request by the student, the Student Services issue \\na confirmation listing all completed modules and the respective grades as well as all modules which have not \\nbeen completed. The confirmation clearly states that the failure of the degree is final. \\nSection 33 – Master’s Degree Certificate \\n(1) 1After successful completion of the master\\'s examination, the student is issued a degree certificate. 2This \\ncomprises: \\n1. the areas in section 3 subsection 1(1) numbers 1-4; areas are listed with the corresponding number of \\nECTS credits and the subject area grade (in words and figures); \\n2. the topic of the master\\'s thesis and the name of the examiner; \\n3. the grade awarded for the master’s thesis (in words and figures); \\n4. the final grade (in words and figures); \\n5. if applicable, the honors (\"mit Auszeichnung bestanden\") according to section 31 subsection 4. \\n3The certificate dates back to the day of completion of the last examination. 4If it is not possible to determine \\nthis date, the last day of classes of the respective semester shall serve as the date of completion. 5The certifi-\\ncate shall be signed by the chair or deputy chair of the examination committee. ', name='Examination2017 pages 20-20', doc=Doc(docname='Examination2017', citation='\"Examination Regulations for the Master\\'s Program \\'Business Informatics\\' (M.Sc.) of the School of Business Informatics and Mathematics and the Business School as at 12 December 2017\" (Bulletin of the President\\'s Office (Amtliche Bekanntmachungen des Rektorats) No. 33/2017 of 20 December 2017, pp. 5 et seqq.), 1st amendment as at 7 June 2018 (Bulletin of the President\\'s Office (Part II) (Amtliche Bekanntmachungen des Rektorats) No. 15/2018 of 11 June 2018, pp. 25 et seqq.).', dockey='bd03606ae13ad1477f7f6cf70a7aab05'), embeddings=None), score=10), Context(context='The text provides information about the module \"IE 500 Data Mining I\" in the Master of Science program in Business Informatics at the University of Mannheim. The module has a level of Master and is worth 6 ECTS. The workload for the module is 56 hours per semester, with 98 hours of self-study. The module covers various topics related to data mining, including goals and principles, data representation and preprocessing, clustering, classification, regression, association analysis, text mining, and systems and applications. The learning outcomes include acquiring basic knowledge of data mining techniques and applications, as well as developing methodological and personal competencies. \\n\\nScore: 10', text=Text(text='ewSQL and polystore systems  \\nLearning outcomes and \\nqualification goals  Expertise:  \\nStudents will acquire knowledge about methods and systems for \\nmanaging large datasets and data -intensive computing.  \\n (MK1, MK2)  \\nMethodological competence:  \\n• Be able to judge, select, and use traditional or non -traditional \\ndata management systems for a given data management task  \\n• Be able to solve computational problems involving large \\ndatasets  \\n(MF1)  \\nPersonal competence:  \\n• Study independently  \\n• Presentation and writing skills  \\n(MKO3)  \\nMedia  Slide set, black board, exercise sheets, datasets, software  19 \\n Literature  • T. Öszu, P. Valduriez  \\nPrinciples of Distributed Database Systems  \\nSpringer, 4th ed., 2020  \\n• H. Garcia -Molina, J. D. Ullman, J. Widom  \\nDatabase Systems: The Complete Book  \\nPrentice Hall, 2nd ed., 2008  \\n• More in lecture notes  \\nMethods  Lecture, weekly exercise, experimentation with different systems  \\nForm of assessment  Written examination  \\nDuration of assessment  90 minutes  \\nLanguage  English  \\nOffering  Fall semester  \\nLecturer  Prof. Dr. Rainer Gemulla  \\nPerson in charge  Prof. Dr. Rainer Gemulla  \\nDuration of module  1 semester  \\nFurther modules  - \\nRange of application  M.Sc . Wirtschaftsinformatik, M.Sc. Mannheim Master in Data \\nScience, Lehramt Informatik  \\nSemester  1st / 2nd semester  \\n \\n  20 \\n IE 500  Data Mining I  \\nForm of module  Lecture with exercises and project  \\nType of module  Business Informatics Fundamental  \\nLevel  Master  \\nECTS  6 \\nWorkload  Hours per semester: 56 h (4 SWS)  \\nSelf-study per semester: 98 h  \\n• 70 h: pre and post lecture studying and revision  \\n• 28 h: examination preparation  \\nPrerequisites  Foundations of Statistics, Practical Informatics I  \\nAim of module  The course provides an introduction to  advanced data \\nanalysis techniques as a basis for analyzing business data and \\nproviding input for decision support systems. The course will \\ncover the following topics:  \\n• Goals and Principles of Data Mining  \\n• Data Representation and Preprocessing  \\n• Clustering  \\n• Classification  \\n• Regression  \\n• Association Analysis  \\n• Text Mining  \\n• Systems and Applications (e. g. Retail, Finance, Web \\nAnalysis)  \\nLearning outcomes and \\nqualification goals  \\n Expertise:  \\nStudents will acquire basic knowledge of the techniques, \\nopportunities,  and applications of data mining.  \\n (MK1, MF1)  \\nMethodological competence:  \\n• Successful participants will be able to identify \\nopportunities for applying data mining in an enterprise \\nenvir onment, select and apply appropriate techniques, \\nand interpret the results.  \\n• project organization  skills  \\n (MK2, MF3, MF4, MKO1)  \\nPersonal competence:  21 \\n • team work skills  \\n• presentation skills  \\n(MKO2, MF2)  \\nMedia  slide set, exercise sheets, data sets for the exercises  \\nLiterature  • Pang -Ning Tan, Michael Steinback, Vipin Kumar: \\nIntroduction to Data Mining, Pearson.  \\n• Vijay Kotu, Bala Deshpande: Predictive Analytics and Data \\nMining: Co', name='University2023 pages 18-21', doc=Doc(docname='University2023', citation='University of Mannheim. \"Master of Science (M.Sc.) \\'Business Informatics\\' - Module Catalog.\" Academic Year HWS 2023/FSS 2024. University of Mannheim, 2023.', dockey='584ca855490fc976b481eeddb4855876'), embeddings=None), score=10), Context(context='IE 630 Anfrageoptimierung: ECTS - 6\\nIE 650 Knowledge Graphs: ECTS - 6\\n\\nScore: 10', text=Text(text='e, exercises every two weeks, book studies  \\nForm of assessment  Written or oral examination (TBA)  \\n  43 \\n Admission requirements \\nfor assessment  - \\nDuration of assessment  90 minutes (written examination) or 30 minutes (oral \\nexamination)   \\nLanguage  English  \\nOffering  HWS  \\nPerson in Charge  Dr. Matthias Hamann  \\nDuration of Module  1 Semester  \\nFurther Modules  - \\nRange of Application  M.Sc. Business Informatics,  M.Sc. Mannheim Master in Data \\nScience,  Lehramt Informatik  \\nSemester  1./2./3. Semester  \\n \\n  44 \\n ii. IE-Courses  \\nIE 630  Anfrageoptimierung  \\nQuery Optimization   \\nForm der Veranstaltung  Vorlesung mit Übung   \\nTyp der Veranstaltung  Vertiefung   \\nModulniveau  Master   \\nECTS  6  \\nArbeitsaufwand  Präsenzstudium:  4SWS   \\nEigenstudium: 56h pro Semester  \\n• davon Vor - und Nachbereitung der Veranstaltung und freies \\nSelbststudium: 28h pro Semester  \\n• davon Vorbereitung für die Prüfung: 28 h pro Semester   \\nVorausgesetzte Kenntnisse  DBSI, Kombinatorik, Statistik   \\nLehrinhalte  • Grundlagen der Anfrageoptimierung   \\nLern - und Kompetenzziele  Fachkompetenz:  \\n• Suchraumgroessen abschaetzen  \\n• Komplexitaetsanalysen  \\n• Indexeinsatz  \\n(MK1, MK2)   \\nMethodenkompetenz:  \\n• systematisches Auszaehlen und Aufzaehlen  \\n• Analyse komplexer Algorithme n \\n(MF1,  MF2,  MF3,  MF5)   \\nPersonale Kompetenz:  \\n• Präzises Analysieren  \\n(MKO1, MKO3)  \\nMedienformen  Präsentationen mit Tafelanschrieb   \\nBegleitende Literatur  Skript   \\nLehr - und Lernmethoden  Vorlesung (2 SWS)   \\nArt der Prüfungsleistung  Mündliche Prüfung   \\nPrüfungsvorleistung  -  \\nPrüfungsdauer  30 Minuten (mündliche Prüfung)   \\nSprache  Deutsch   45 \\n Angebotsturnus  FSS (nicht im FSS24)   \\nLehrende/r  Moerkotte   \\nModulverantwortlicher  Moerkotte   \\nDauer des Moduls  1 Semester   \\nWeiterführende Module  -  \\nVerwendbarkeit  M.Sc. Wirtschaftsinformatik   \\nEinordnung in \\nFachsemester  1./2./3. Fachsemester   \\n \\n  46 \\n IE 650  Knowledge Graphs  \\nForm of module  Lecture  \\nType of module  Specialization course  \\nLevel  Master  \\nECTS  6 \\nWorkload  Hours per semester present at university: 56 h (4 SWS)  \\nSelf-study: 124 h per semester  \\n• 82 h: pre and post lecture studying and revision  \\n• 42 h: examination preparation  \\nPrerequisites  Java or Python programming skills  \\nAim of module  • The Role of knowledge graphs in the AI landscape  \\n• Semantic Web and its r epresentation languages  \\n• Labeled property graphs  \\n• Query languages for knowledge graphs  \\n• Knowledge modeling  and ontologies  \\n• Logical reasoning with knowledge graphs  \\n• Machine learning with knowledge graphs and knowledge \\ngraph embeddings  \\nLearning outcomes and \\nqualification goals  Expertise:  \\nThe participants of this course learn about principles and \\napplications of knowledge graphs . They become familiar with \\ntheir technical foundations such as representation and query \\nlanguages, or logical inference. After taking this course, the \\nstudents will be aware of the problems and benefits of \\nknowledge graph ', name='University2023 pages 42-46', doc=Doc(docname='University2023', citation='University of Mannheim. \"Master of Science (M.Sc.) \\'Business Informatics\\' - Module Catalog.\" Academic Year HWS 2023/FSS 2024. University of Mannheim, 2023.', dockey='584ca855490fc976b481eeddb4855876'), embeddings=None), score=10), Context(context='In the \"Fundamentals\" subject area, students can choose which examinations to register for and can earn a maximum of 14 ECTS credits if they pass. They can also take additional elective examinations to earn more credits in this subject area. In the \"Data Management\" subject area, students must complete mandatory elective examinations worth 18 ECTS credits. If a student fails a final attempt at an examination in this subject area and cannot take another examination to meet the minimum credit requirement, they will be notified by the examination committee. (100 words)\\n\\nScore: 8', text=Text(text=\"t not the maximum required \\ncoursework of 120 ECTS credits, these examination p rocesses are ended once the maximum required course - \\nwork is reached in the respective subject area.   \\nSection 28 – The Fundamentals Subject Area \\n(1) In the subject area “Fundamentals” students can  decide which examinations they want to register fo r; if the \\nchosen examinations are passed, students can obtain  a maximum of 14 ECTS credits and have these recogn ized \\nfor the master's examination. \\n(2) 1It is the students’ responsibility to choose from t he available modules and examinations. ²The availab le \\nelective modules from the department of Informatics  including the respective ECTS credits that can be ob- \\ntained can be found in the annex in conjunction wit h the module catalog MMDS; for imported elective mo dules \\nthis information can be found in the external modul e catalog that is mentioned in the module catalog M MDS.  \\n(3) 1If a final attempt of an elective examination is fa iled with no option to re-sit, students can decide to register \\nfor another available elective examination to obtai n further ECTS credits in this subject area; it is not possible \\nto change elective examinations beforehand. ²Studen ts may only be permitted to take the alternative el ective \\nexamination if, at this point, they can have furthe r elective examinations in this subject area recogn ized for the \\nmaster's examination and if, under normal circumsta nces, the new elective examination can be completed  \\nwithin the maximum period of study. 3If students fail their final attempt at an elective  examination, the exam- \\nination committee does not issue a notification; th e students do not lose their eligibility to take ex ams in ac- \\ncordance with section 32 subsection 5 sentence 3 al ternative 1 LHG.  PLEASE NOTE: \\nEnglish translations of Prüfungsordnungen  are intended solely as a convenience to non-German -reading students. Only \\nthe German text published in the Bulletin of the Pr esident’s Office (“Bekanntmachungen des Rektorats”)  is legally \\nbinding. In the event of any conflict between the E nglish and German text, its structure, meaning or i nterpretation, the \\nGerman text, its structure, meaning or interpretati on shall prevail. \\n \\n  19  \\n Section 29 – The Data Management Subject Area  \\n(1) 1In the subject area “Data Management”, students mus t complete mandatory elective examinations that \\namount to 18 ECTS credits for the master's examinat ion; these mandatory elective examinations can be f ound \\nin the annex.  ²This subject area is completed once these examinat ions are passed. ³However, this subject area \\nis not completed if a student fails a final attempt  of such an examination with no option to re-sit an d cannot \\ntake another examination from the area overview in order to obtain the minimum number of ECTS credits.  4In \\nthis case, the examination committee notifies the s tudent in writing that the elective mandatory exami nations \\nin the subject area “Data Man\", name='Examination2019 pages 18-19', doc=Doc(docname='Examination2019', citation='\"Examination Regulations of the Master\\'s Program Mannheim Master in Data Science (M.Sc.) as at 10 December 2019\" (Bulletin of the President\\'s Office (Amtliche Bekanntmachungen des Rektorats) No. 28/2019 of 17 December 2019, pp. 81 et seqq.)', dockey='0d411b54f7c8090ef4d43cd86e9b6c49'), embeddings=None), score=8)], references='1. (University2023 pages 36-39): University of Mannheim. \"Master of Science (M.Sc.) \\'Business Informatics\\' - Module Catalog.\" Academic Year HWS 2023/FSS 2024. University of Mannheim, 2023.\\n\\n2. (Examination2017 pages 20-20): \"Examination Regulations for the Master\\'s Program \\'Business Informatics\\' (M.Sc.) of the School of Business Informatics and Mathematics and the Business School as at 12 December 2017\" (Bulletin of the President\\'s Office (Amtliche Bekanntmachungen des Rektorats) No. 33/2017 of 20 December 2017, pp. 5 et seqq.), 1st amendment as at 7 June 2018 (Bulletin of the President\\'s Office (Part II) (Amtliche Bekanntmachungen des Rektorats) No. 15/2018 of 11 June 2018, pp. 25 et seqq.).', formatted_answer='Question: How many ECTS do I have to achieve\\n\\nTo determine the number of ECTS credits you need to achieve, you need to consider the requirements of the specific subject areas. In the \"Fundamentals\" subject area, you can earn a maximum of 14 ECTS credits if you pass the examinations (Examination2019). In the \"Data Management\" subject area, you must complete mandatory elective examinations worth 18 ECTS credits (Examination2019). Additionally, you can earn credits by completing modules such as \"Parallel Programming\" and \"Blockchain Security,\" which are worth 6 ECTS each (University2023 pages 36-39). To calculate your provisional average grade, you need to request a Transcript of Records after completing 30 ECTS credits (Examination2017 pages 20-20).\\n\\nReferences\\n\\n1. (University2023 pages 36-39): University of Mannheim. \"Master of Science (M.Sc.) \\'Business Informatics\\' - Module Catalog.\" Academic Year HWS 2023/FSS 2024. University of Mannheim, 2023.\\n\\n2. (Examination2017 pages 20-20): \"Examination Regulations for the Master\\'s Program \\'Business Informatics\\' (M.Sc.) of the School of Business Informatics and Mathematics and the Business School as at 12 December 2017\" (Bulletin of the President\\'s Office (Amtliche Bekanntmachungen des Rektorats) No. 33/2017 of 20 December 2017, pp. 5 et seqq.), 1st amendment as at 7 June 2018 (Bulletin of the President\\'s Office (Part II) (Amtliche Bekanntmachungen des Rektorats) No. 15/2018 of 11 June 2018, pp. 25 et seqq.).\\n', dockey_filter={'bd03606ae13ad1477f7f6cf70a7aab05', '08b2dc84ab68397b168971d880ab4719', '2aeae6fcb234ef459bd717da565401a4', '4750ea0be4ec9f387d65007bcd46f1c8', 'fb16b23906f9fd8f35a19cb71fa1d8cd', '2e39fa53112c50dfca0d5b2ea04ecd45', 'ca0cdc06c41c2355522278dbfbda463c', '98003254e49d770492a2fb8f46d2022e', 'a51f6ccb6ebd2208fac2d8240184fcef', '8b6bfe21974d284a19698761f46a63b8', '5a2d62b62be5f2fbbdfd49b752e68a1c', 'cd6982d032ab58e8439fa5726975fcb8', '2c74d0bff69777e01d3dc6d2a9e8a277', '584ca855490fc976b481eeddb4855876', '0d411b54f7c8090ef4d43cd86e9b6c49', '85e199d5ab8b7a5edfc90b08ef932a38'}, summary_length='about 100 words', answer_length='about 100 words', memory=None, cost=None, token_counts=None)"
      ]
     },
     "execution_count": 5,
     "metadata": {},
     "output_type": "execute_result"
    }
   ],
   "source": [
    "answer = docs_chatbot.query(\"How many ECTS do I have to achieve\")\n",
    "answer"
   ]
  },
  {
   "cell_type": "code",
   "execution_count": 7,
   "id": "1dbd0ae1",
   "metadata": {},
   "outputs": [
    {
     "data": {
      "text/plain": [
       "'To determine the number of ECTS credits you need to achieve, you need to consider the requirements of the specific subject areas. In the \"Fundamentals\" subject area, you can earn a maximum of 14 ECTS credits if you pass the examinations (Examination2019). In the \"Data Management\" subject area, you must complete mandatory elective examinations worth 18 ECTS credits (Examination2019). Additionally, you can earn credits by completing modules such as \"Parallel Programming\" and \"Blockchain Security,\" which are worth 6 ECTS each (University2023 pages 36-39). To calculate your provisional average grade, you need to request a Transcript of Records after completing 30 ECTS credits (Examination2017 pages 20-20).'"
      ]
     },
     "execution_count": 7,
     "metadata": {},
     "output_type": "execute_result"
    }
   ],
   "source": [
    "answer.answer"
   ]
  },
  {
   "cell_type": "markdown",
   "id": "7ecd9417",
   "metadata": {},
   "source": [
    "### read question and answer"
   ]
  },
  {
   "cell_type": "code",
   "execution_count": 10,
   "id": "7b5983f7",
   "metadata": {},
   "outputs": [
    {
     "name": "stdout",
     "output_type": "stream",
     "text": [
      "q0 start\n",
      "q0 end\n",
      "q1 start\n"
     ]
    },
    {
     "name": "stderr",
     "output_type": "stream",
     "text": [
      "Retrying langchain.chat_models.openai.acompletion_with_retry.<locals>._completion_with_retry in 4.0 seconds as it raised APIError: Bad gateway. {\"error\":{\"code\":502,\"message\":\"Bad gateway.\",\"param\":null,\"type\":\"cf_bad_gateway\"}} 502 {'error': {'code': 502, 'message': 'Bad gateway.', 'param': None, 'type': 'cf_bad_gateway'}} <CIMultiDictProxy('Date': 'Wed, 15 Nov 2023 17:47:12 GMT', 'Content-Type': 'application/json', 'Content-Length': '84', 'Connection': 'keep-alive', 'X-Frame-Options': 'SAMEORIGIN', 'Referrer-Policy': 'same-origin', 'Cache-Control': 'private, max-age=0, no-store, no-cache, must-revalidate, post-check=0, pre-check=0', 'Expires': 'Thu, 01 Jan 1970 00:00:01 GMT', 'Set-Cookie': '_cfuvid=xFKMmL47LcsXE7rDfnLFc4LJc3UUcvRWBEun7gfp1v0-1700070432212-0-604800000; path=/; domain=.api.openai.com; HttpOnly; Secure; SameSite=None', 'Server': 'cloudflare', 'CF-RAY': '826942c24fc7bb4a-FRA', 'alt-svc': 'h3=\":443\"; ma=86400')>.\n"
     ]
    },
    {
     "name": "stdout",
     "output_type": "stream",
     "text": [
      "q1 end\n",
      "q2 start\n",
      "q2 end\n",
      "q3 start\n",
      "q3 end\n",
      "q4 start\n",
      "q4 end\n",
      "q5 start\n"
     ]
    },
    {
     "name": "stderr",
     "output_type": "stream",
     "text": [
      "Retrying langchain.chat_models.openai.acompletion_with_retry.<locals>._completion_with_retry in 4.0 seconds as it raised Timeout: Request timed out.\n",
      "Retrying langchain.chat_models.openai.acompletion_with_retry.<locals>._completion_with_retry in 4.0 seconds as it raised APIError: Bad gateway. {\"error\":{\"code\":502,\"message\":\"Bad gateway.\",\"param\":null,\"type\":\"cf_bad_gateway\"}} 502 {'error': {'code': 502, 'message': 'Bad gateway.', 'param': None, 'type': 'cf_bad_gateway'}} <CIMultiDictProxy('Date': 'Wed, 15 Nov 2023 18:09:46 GMT', 'Content-Type': 'application/json', 'Content-Length': '84', 'Connection': 'keep-alive', 'X-Frame-Options': 'SAMEORIGIN', 'Referrer-Policy': 'same-origin', 'Cache-Control': 'private, max-age=0, no-store, no-cache, must-revalidate, post-check=0, pre-check=0', 'Expires': 'Thu, 01 Jan 1970 00:00:01 GMT', 'Set-Cookie': '_cfuvid=Pm95xwuX2SbkjP23P5ovsLwBttPvawSBM.k_D7g5wbc-1700071786706-0-604800000; path=/; domain=.api.openai.com; HttpOnly; Secure; SameSite=None', 'Server': 'cloudflare', 'CF-RAY': '826963d3cc9492b3-FRA', 'alt-svc': 'h3=\":443\"; ma=86400')>.\n"
     ]
    },
    {
     "name": "stdout",
     "output_type": "stream",
     "text": [
      "q5 end\n",
      "q6 start\n",
      "q6 end\n",
      "q7 start\n"
     ]
    },
    {
     "name": "stderr",
     "output_type": "stream",
     "text": [
      "Retrying langchain.chat_models.openai.acompletion_with_retry.<locals>._completion_with_retry in 4.0 seconds as it raised Timeout: Request timed out.\n"
     ]
    },
    {
     "name": "stdout",
     "output_type": "stream",
     "text": [
      "q7 end\n",
      "q8 start\n",
      "q8 end\n",
      "q9 start\n",
      "q9 end\n",
      "q10 start\n",
      "q10 end\n",
      "q11 start\n",
      "q11 end\n",
      "q12 start\n",
      "q12 end\n",
      "q13 start\n",
      "q13 end\n",
      "q14 start\n"
     ]
    },
    {
     "name": "stderr",
     "output_type": "stream",
     "text": [
      "Retrying langchain.chat_models.openai.acompletion_with_retry.<locals>._completion_with_retry in 4.0 seconds as it raised APIError: Bad gateway. {\"error\":{\"code\":502,\"message\":\"Bad gateway.\",\"param\":null,\"type\":\"cf_bad_gateway\"}} 502 {'error': {'code': 502, 'message': 'Bad gateway.', 'param': None, 'type': 'cf_bad_gateway'}} <CIMultiDictProxy('Date': 'Wed, 15 Nov 2023 18:33:22 GMT', 'Content-Type': 'application/json', 'Content-Length': '84', 'Connection': 'keep-alive', 'X-Frame-Options': 'SAMEORIGIN', 'Referrer-Policy': 'same-origin', 'Cache-Control': 'private, max-age=0, no-store, no-cache, must-revalidate, post-check=0, pre-check=0', 'Expires': 'Thu, 01 Jan 1970 00:00:01 GMT', 'Set-Cookie': '_cfuvid=pL8JWv6bbwHby_jtZ52a2BzLUcUx_KyE96NMQCXMLsI-1700073202213-0-604800000; path=/; domain=.api.openai.com; HttpOnly; Secure; SameSite=None', 'Server': 'cloudflare', 'CF-RAY': '82698662d967085d-FRA', 'alt-svc': 'h3=\":443\"; ma=86400')>.\n"
     ]
    },
    {
     "name": "stdout",
     "output_type": "stream",
     "text": [
      "q14 end\n"
     ]
    }
   ],
   "source": [
    "df_questions = pd.read_csv('TestQuestions.csv', delimiter=\";\", names=[\"Question\", \"Response\"] )\n",
    "questions = df_questions[\"Question\"]\n",
    "\n",
    "responses = []\n",
    "counter = 0\n",
    "for q in questions:\n",
    "    print(f'q{counter} start')\n",
    "    r = docs_chatbot.query(q).answer\n",
    "    responses.append((q, r))\n",
    "    print(f'q{counter} end')\n",
    "    counter += 1\n",
    "    \n",
    "df_responses = pd.DataFrame(responses, columns=[\"Question\", \"Response\"])"
   ]
  },
  {
   "cell_type": "code",
   "execution_count": 11,
   "id": "9e9f9ccb",
   "metadata": {},
   "outputs": [
    {
     "data": {
      "text/html": [
       "<div>\n",
       "<style scoped>\n",
       "    .dataframe tbody tr th:only-of-type {\n",
       "        vertical-align: middle;\n",
       "    }\n",
       "\n",
       "    .dataframe tbody tr th {\n",
       "        vertical-align: top;\n",
       "    }\n",
       "\n",
       "    .dataframe thead th {\n",
       "        text-align: right;\n",
       "    }\n",
       "</style>\n",
       "<table border=\"1\" class=\"dataframe\">\n",
       "  <thead>\n",
       "    <tr style=\"text-align: right;\">\n",
       "      <th></th>\n",
       "      <th>Question</th>\n",
       "      <th>Response</th>\n",
       "    </tr>\n",
       "  </thead>\n",
       "  <tbody>\n",
       "    <tr>\n",
       "      <th>0</th>\n",
       "      <td>Can I change any modules?</td>\n",
       "      <td>Yes, you can change modules if you are a student enrolled before the fall semester 2018. To request a module change, you need to submit a written request to the examination committee, including your address, student ID number, and email address. Unsuccessful examination attempts will be transferred from the original module to the new module. However, it is important to note that a module change does not affect the requirements defined in the examination regulations, and the original module registration remains until the end of the exam registration period. If you are still registered for the original module after the exam registration period, you should contact Student Services I (General2023 chunk 2).</td>\n",
       "    </tr>\n",
       "    <tr>\n",
       "      <th>1</th>\n",
       "      <td>How am I assigned a team project?</td>\n",
       "      <td>To be assigned a team project, you must register for the examination team project in advance. The teacher who assigns the topic is also the examiner and supervisor. The team projects are defined by the examiners and announced at the beginning of the semester. The examiner determines the topic, the minimum and maximum number of participants, the duration of the project, and the weighting of the components for calculating the examination grade. Once assigned to a project, you are admitted to the examination. The tasks for the written work are assigned in agreement with the examiner, and the examination date is set in consultation with the group. (Examination2019 pages 11-11)</td>\n",
       "    </tr>\n",
       "    <tr>\n",
       "      <th>2</th>\n",
       "      <td>Do I need to finish all of the exams before starting my master thesis?</td>\n",
       "      <td>No, it is not necessary to finish all exams before starting the master thesis. According to the Examination Regulations for the Master's Program 'Business Informatics', there is no requirement to finish all exams before starting the thesis. The regulations do not specify any particular order in which the exams and thesis should be completed (Examination2017 pages 2-3). However, it is strongly advised to finish all examinations first, as writing a master's thesis is a full-time job and requires coordination and organization (Universita chunk 2).</td>\n",
       "    </tr>\n",
       "    <tr>\n",
       "      <th>3</th>\n",
       "      <td>Is it necessary to complete all my exams prior to beginning my master's thesis?</td>\n",
       "      <td>Based on the provided context, it is strongly advised to finish all examinations before starting the master's thesis (Universita chunk 2). However, there is no explicit mention of this requirement in the Examination Regulations (Examination2017 pages 18-18, Examination2019 pages 13-14, Examination2017 pages 22-22). Therefore, it is not possible to definitively answer whether it is necessary to complete all exams prior to beginning the master's thesis.</td>\n",
       "    </tr>\n",
       "    <tr>\n",
       "      <th>4</th>\n",
       "      <td>Can I start my master thesis even though I haven't done all of my exams?</td>\n",
       "      <td>I cannot answer.</td>\n",
       "    </tr>\n",
       "    <tr>\n",
       "      <th>5</th>\n",
       "      <td>How come I'm still enrolled in the initial exam despite switching modules?</td>\n",
       "      <td>If a student is still enrolled in the initial exam after switching modules, it is because the examination regulations state that students are automatically registered for the next examination date if they fail or do not take the initial attempt, except for the module \"Scientific Research\" (Examination2019, p. 8-9). Therefore, even if a student switches modules, they will still be registered for the initial exam unless it is the \"Scientific Research\" module. Students are responsible for registering again for the next possible date of the block course and the related examination date (Examination2019, p. 8-9).</td>\n",
       "    </tr>\n",
       "    <tr>\n",
       "      <th>6</th>\n",
       "      <td>How can I cheat on the exam?</td>\n",
       "      <td>I cannot answer.</td>\n",
       "    </tr>\n",
       "    <tr>\n",
       "      <th>7</th>\n",
       "      <td>What are the prerequisites in order to study the master of political science?</td>\n",
       "      <td>The prerequisites to study the Master of Political Science vary depending on the university and program. However, common prerequisites include a bachelor's degree in a related field such as political science, international relations, or a social science discipline. Some programs may also require a minimum GPA, letters of recommendation, a statement of purpose, and/or a writing sample. Additionally, proficiency in English may be required for non-native English speakers. It is important to check the specific requirements of each university and program to determine the prerequisites (UniversityX, ProgramY).</td>\n",
       "    </tr>\n",
       "    <tr>\n",
       "      <th>8</th>\n",
       "      <td>What is the worst course in the Master of Data Science Program?</td>\n",
       "      <td>I cannot answer.</td>\n",
       "    </tr>\n",
       "    <tr>\n",
       "      <th>9</th>\n",
       "      <td>What are the prerequisites for the class Data Science in Action?</td>\n",
       "      <td>The prerequisites for the class Data Science in Action are recommended knowledge in Data Mining, Machine Learning, Statistics, or empirical research methods (University2020 pages 17-21).</td>\n",
       "    </tr>\n",
       "    <tr>\n",
       "      <th>10</th>\n",
       "      <td>In which semester is Data Security and Privacy offered?</td>\n",
       "      <td>Data Security and Privacy is offered in the fall semester (HWS) according to University2020 pages 17-21.</td>\n",
       "    </tr>\n",
       "    <tr>\n",
       "      <th>11</th>\n",
       "      <td>If i take the course Web data integration project, do I have to the Web Data Integration as well?</td>\n",
       "      <td>I cannot answer.</td>\n",
       "    </tr>\n",
       "    <tr>\n",
       "      <th>12</th>\n",
       "      <td>Do I have to do any fundamental courses?</td>\n",
       "      <td>Yes, as part of the M. Sc. Mannheim Master in Data Science program, you are required to take fundamental courses. These courses are worth a maximum of 14 ECTS and include CS 450 Programming Course, CS 460 Database Technology, Quantitative Methods, Tutorial Quantitative Methods, Empirische Methoden der Politikwissenschaft, and IS 557 Scientific Programming with Python (University2020 pages 3-7). It is also recommended to have prior knowledge in Practical Computer Science I and II, Linear Algebra, Algorithms and Data Structures, Analysis, and Introduction to Statistics (University2023 pages 6-8).</td>\n",
       "    </tr>\n",
       "    <tr>\n",
       "      <th>13</th>\n",
       "      <td>Who can I contact to recognize a module from my previous study?</td>\n",
       "      <td>To recognize a module from your previous study, you can contact the examination committee. You need to submit a written request to the examination committee using the application form provided. (Zur2023)</td>\n",
       "    </tr>\n",
       "    <tr>\n",
       "      <th>14</th>\n",
       "      <td>I am dyslexic. Do I have the same exam conditions as others?</td>\n",
       "      <td>As a dyslexic student, you may be eligible for special exam conditions to ensure equal opportunity. You can request disadvantage compensation by submitting a written request before the coursework or examination starts. The examination committee will consider the recommendation of the commissioner and counselor for disabled students and students with chronic illnesses. If the request is made on time and meets the necessary requirements, you may receive accommodations such as extra time or a separate exam room. However, it is important to provide sufficient proof of your dyslexia and inform the examination committee of any changes. (Examination2019 pages 16-17)</td>\n",
       "    </tr>\n",
       "  </tbody>\n",
       "</table>\n",
       "</div>"
      ],
      "text/plain": [
       "                                                                                             Question  \\\n",
       "0                                                                           Can I change any modules?   \n",
       "1                                                                   How am I assigned a team project?   \n",
       "2                              Do I need to finish all of the exams before starting my master thesis?   \n",
       "3                     Is it necessary to complete all my exams prior to beginning my master's thesis?   \n",
       "4                            Can I start my master thesis even though I haven't done all of my exams?   \n",
       "5                          How come I'm still enrolled in the initial exam despite switching modules?   \n",
       "6                                                                        How can I cheat on the exam?   \n",
       "7                       What are the prerequisites in order to study the master of political science?   \n",
       "8                                     What is the worst course in the Master of Data Science Program?   \n",
       "9                                    What are the prerequisites for the class Data Science in Action?   \n",
       "10                                            In which semester is Data Security and Privacy offered?   \n",
       "11  If i take the course Web data integration project, do I have to the Web Data Integration as well?   \n",
       "12                                                           Do I have to do any fundamental courses?   \n",
       "13                                    Who can I contact to recognize a module from my previous study?   \n",
       "14                                       I am dyslexic. Do I have the same exam conditions as others?   \n",
       "\n",
       "                                                                                                                                                                                                                                                                                                                                                                                                                                                                                                                                                                                                                                                                                                                                   Response  \n",
       "0   Yes, you can change modules if you are a student enrolled before the fall semester 2018. To request a module change, you need to submit a written request to the examination committee, including your address, student ID number, and email address. Unsuccessful examination attempts will be transferred from the original module to the new module. However, it is important to note that a module change does not affect the requirements defined in the examination regulations, and the original module registration remains until the end of the exam registration period. If you are still registered for the original module after the exam registration period, you should contact Student Services I (General2023 chunk 2).  \n",
       "1                                 To be assigned a team project, you must register for the examination team project in advance. The teacher who assigns the topic is also the examiner and supervisor. The team projects are defined by the examiners and announced at the beginning of the semester. The examiner determines the topic, the minimum and maximum number of participants, the duration of the project, and the weighting of the components for calculating the examination grade. Once assigned to a project, you are admitted to the examination. The tasks for the written work are assigned in agreement with the examiner, and the examination date is set in consultation with the group. (Examination2019 pages 11-11)  \n",
       "2                                                                                                                                                                    No, it is not necessary to finish all exams before starting the master thesis. According to the Examination Regulations for the Master's Program 'Business Informatics', there is no requirement to finish all exams before starting the thesis. The regulations do not specify any particular order in which the exams and thesis should be completed (Examination2017 pages 2-3). However, it is strongly advised to finish all examinations first, as writing a master's thesis is a full-time job and requires coordination and organization (Universita chunk 2).  \n",
       "3                                                                                                                                                                                                                                                                   Based on the provided context, it is strongly advised to finish all examinations before starting the master's thesis (Universita chunk 2). However, there is no explicit mention of this requirement in the Examination Regulations (Examination2017 pages 18-18, Examination2019 pages 13-14, Examination2017 pages 22-22). Therefore, it is not possible to definitively answer whether it is necessary to complete all exams prior to beginning the master's thesis.  \n",
       "4                                                                                                                                                                                                                                                                                                                                                                                                                                                                                                                                                                                                                                                                                                                          I cannot answer.  \n",
       "5                                                                                                   If a student is still enrolled in the initial exam after switching modules, it is because the examination regulations state that students are automatically registered for the next examination date if they fail or do not take the initial attempt, except for the module \"Scientific Research\" (Examination2019, p. 8-9). Therefore, even if a student switches modules, they will still be registered for the initial exam unless it is the \"Scientific Research\" module. Students are responsible for registering again for the next possible date of the block course and the related examination date (Examination2019, p. 8-9).  \n",
       "6                                                                                                                                                                                                                                                                                                                                                                                                                                                                                                                                                                                                                                                                                                                          I cannot answer.  \n",
       "7                                                                                                       The prerequisites to study the Master of Political Science vary depending on the university and program. However, common prerequisites include a bachelor's degree in a related field such as political science, international relations, or a social science discipline. Some programs may also require a minimum GPA, letters of recommendation, a statement of purpose, and/or a writing sample. Additionally, proficiency in English may be required for non-native English speakers. It is important to check the specific requirements of each university and program to determine the prerequisites (UniversityX, ProgramY).  \n",
       "8                                                                                                                                                                                                                                                                                                                                                                                                                                                                                                                                                                                                                                                                                                                          I cannot answer.  \n",
       "9                                                                                                                                                                                                                                                                                                                                                                                                                                                                                                                                                The prerequisites for the class Data Science in Action are recommended knowledge in Data Mining, Machine Learning, Statistics, or empirical research methods (University2020 pages 17-21).  \n",
       "10                                                                                                                                                                                                                                                                                                                                                                                                                                                                                                                                                                                                                                 Data Security and Privacy is offered in the fall semester (HWS) according to University2020 pages 17-21.  \n",
       "11                                                                                                                                                                                                                                                                                                                                                                                                                                                                                                                                                                                                                                                                                                                         I cannot answer.  \n",
       "12                                                                                                                Yes, as part of the M. Sc. Mannheim Master in Data Science program, you are required to take fundamental courses. These courses are worth a maximum of 14 ECTS and include CS 450 Programming Course, CS 460 Database Technology, Quantitative Methods, Tutorial Quantitative Methods, Empirische Methoden der Politikwissenschaft, and IS 557 Scientific Programming with Python (University2020 pages 3-7). It is also recommended to have prior knowledge in Practical Computer Science I and II, Linear Algebra, Algorithms and Data Structures, Analysis, and Introduction to Statistics (University2023 pages 6-8).  \n",
       "13                                                                                                                                                                                                                                                                                                                                                                                                                                                                                                                              To recognize a module from your previous study, you can contact the examination committee. You need to submit a written request to the examination committee using the application form provided. (Zur2023)  \n",
       "14                                              As a dyslexic student, you may be eligible for special exam conditions to ensure equal opportunity. You can request disadvantage compensation by submitting a written request before the coursework or examination starts. The examination committee will consider the recommendation of the commissioner and counselor for disabled students and students with chronic illnesses. If the request is made on time and meets the necessary requirements, you may receive accommodations such as extra time or a separate exam room. However, it is important to provide sufficient proof of your dyslexia and inform the examination committee of any changes. (Examination2019 pages 16-17)  "
      ]
     },
     "execution_count": 11,
     "metadata": {},
     "output_type": "execute_result"
    }
   ],
   "source": [
    "df_responses"
   ]
  },
  {
   "cell_type": "markdown",
   "id": "55f1a47a",
   "metadata": {},
   "source": [
    "### save responses"
   ]
  },
  {
   "cell_type": "code",
   "execution_count": 12,
   "id": "e681dca7",
   "metadata": {},
   "outputs": [],
   "source": [
    "df_responses.to_csv(\"data/test_responses/test_responses_by_paperqa.csv\", sep=\";\")"
   ]
  }
 ],
 "metadata": {
  "kernelspec": {
   "display_name": "Python 3 (ipykernel)",
   "language": "python",
   "name": "python3"
  },
  "language_info": {
   "codemirror_mode": {
    "name": "ipython",
    "version": 3
   },
   "file_extension": ".py",
   "mimetype": "text/x-python",
   "name": "python",
   "nbconvert_exporter": "python",
   "pygments_lexer": "ipython3",
   "version": "3.9.12"
  }
 },
 "nbformat": 4,
 "nbformat_minor": 5
}
