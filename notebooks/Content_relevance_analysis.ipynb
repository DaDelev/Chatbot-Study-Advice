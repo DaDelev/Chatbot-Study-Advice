{
 "cells": [
  {
   "cell_type": "markdown",
   "metadata": {},
   "source": [
    "# Content Relevance Analysis"
   ]
  },
  {
   "cell_type": "code",
   "execution_count": 1,
   "metadata": {},
   "outputs": [],
   "source": [
    "import os\n",
    "import numpy as np\n",
    "import pandas as pd\n",
    "from statsmodels.stats.proportion import proportion_confint"
   ]
  },
  {
   "cell_type": "markdown",
   "metadata": {},
   "source": [
    "## How much more documents are gathered from the second scraper version?\n",
    "\n",
    "The second version of the web scraper extends the range of the scraper with an increased maximum depth of 3 recursively followed links (versus 2 in the first version) and with an additional start request (starting from \"https://www.uni-mannheim.de/dws/\"). This version gathers a lot more documents (HTMLs and PDFs)."
   ]
  },
  {
   "cell_type": "code",
   "execution_count": 2,
   "metadata": {},
   "outputs": [
    {
     "data": {
      "text/html": [
       "<div>\n",
       "<style scoped>\n",
       "    .dataframe tbody tr th:only-of-type {\n",
       "        vertical-align: middle;\n",
       "    }\n",
       "\n",
       "    .dataframe tbody tr th {\n",
       "        vertical-align: top;\n",
       "    }\n",
       "\n",
       "    .dataframe thead th {\n",
       "        text-align: right;\n",
       "    }\n",
       "</style>\n",
       "<table border=\"1\" class=\"dataframe\">\n",
       "  <thead>\n",
       "    <tr style=\"text-align: right;\">\n",
       "      <th></th>\n",
       "      <th>n_docs_total</th>\n",
       "      <th>n_HTMLs</th>\n",
       "      <th>n_PDFs</th>\n",
       "    </tr>\n",
       "  </thead>\n",
       "  <tbody>\n",
       "    <tr>\n",
       "      <th>version 1</th>\n",
       "      <td>272</td>\n",
       "      <td>111</td>\n",
       "      <td>161</td>\n",
       "    </tr>\n",
       "    <tr>\n",
       "      <th>version 2</th>\n",
       "      <td>1652</td>\n",
       "      <td>668</td>\n",
       "      <td>983</td>\n",
       "    </tr>\n",
       "  </tbody>\n",
       "</table>\n",
       "</div>"
      ],
      "text/plain": [
       "           n_docs_total  n_HTMLs  n_PDFs\n",
       "version 1           272      111     161\n",
       "version 2          1652      668     983"
      ]
     },
     "metadata": {},
     "output_type": "display_data"
    },
    {
     "name": "stdout",
     "output_type": "stream",
     "text": [
      "increase factors:\n"
     ]
    },
    {
     "data": {
      "text/plain": [
       "n_docs_total    6.073529\n",
       "n_HTMLs         6.018018\n",
       "n_PDFs          6.105590\n",
       "dtype: float64"
      ]
     },
     "metadata": {},
     "output_type": "display_data"
    }
   ],
   "source": [
    "v1_docs_list = os.listdir(\"data/scraped_data/\")\n",
    "v1_htmls = [d for d in v1_docs_list if d.split(\".\")[-1] == \"html\"]\n",
    "v1_pdfs = [d for d in v1_docs_list if d.split(\".\")[-1] == \"pdf\"]\n",
    "n_v1_docs_total = len(v1_docs_list)\n",
    "n_v1_htmls = len(v1_htmls)\n",
    "n_v1_pdfs = len(v1_pdfs)\n",
    "\n",
    "v2_docs_list = os.listdir(\"data/scraped_data_v2/\")\n",
    "v2_htmls = [d for d in v2_docs_list if d.split(\".\")[-1] == \"html\"]\n",
    "v2_pdfs = [d for d in v2_docs_list if d.split(\".\")[-1] == \"pdf\"]\n",
    "n_v2_docs_total = len(v2_docs_list)\n",
    "n_v2_htmls = len(v2_htmls)\n",
    "n_v2_pdfs = len(v2_pdfs)\n",
    "\n",
    "doc_counts = pd.DataFrame(\n",
    "    {\n",
    "        \"n_docs_total\": [n_v1_docs_total, n_v2_docs_total],\n",
    "        \"n_HTMLs\": [n_v1_htmls, n_v2_htmls],\n",
    "        \"n_PDFs\": [n_v1_pdfs, n_v2_pdfs]\n",
    "    },\n",
    "    index=[\"version 1\", \"version 2\"]\n",
    ")\n",
    "\n",
    "display(doc_counts)\n",
    "\n",
    "increase_factors_n = doc_counts.loc[\"version 2\"] / doc_counts.loc[\"version 1\"]\n",
    "\n",
    "print(\"increase factors:\")\n",
    "display(increase_factors_n)"
   ]
  },
  {
   "cell_type": "markdown",
   "metadata": {},
   "source": [
    "There are roughly 6 times more documents gathered from the second scraper version."
   ]
  },
  {
   "cell_type": "code",
   "execution_count": 3,
   "metadata": {},
   "outputs": [
    {
     "data": {
      "text/html": [
       "<div>\n",
       "<style scoped>\n",
       "    .dataframe tbody tr th:only-of-type {\n",
       "        vertical-align: middle;\n",
       "    }\n",
       "\n",
       "    .dataframe tbody tr th {\n",
       "        vertical-align: top;\n",
       "    }\n",
       "\n",
       "    .dataframe thead th {\n",
       "        text-align: right;\n",
       "    }\n",
       "</style>\n",
       "<table border=\"1\" class=\"dataframe\">\n",
       "  <thead>\n",
       "    <tr style=\"text-align: right;\">\n",
       "      <th></th>\n",
       "      <th>mb_docs_total</th>\n",
       "      <th>mb_HTMLs</th>\n",
       "      <th>mb_PDFs</th>\n",
       "    </tr>\n",
       "  </thead>\n",
       "  <tbody>\n",
       "    <tr>\n",
       "      <th>version 1</th>\n",
       "      <td>71.063682</td>\n",
       "      <td>9.025052</td>\n",
       "      <td>62.038630</td>\n",
       "    </tr>\n",
       "    <tr>\n",
       "      <th>version 2</th>\n",
       "      <td>1276.537296</td>\n",
       "      <td>42.757508</td>\n",
       "      <td>1233.778471</td>\n",
       "    </tr>\n",
       "  </tbody>\n",
       "</table>\n",
       "</div>"
      ],
      "text/plain": [
       "           mb_docs_total   mb_HTMLs      mb_PDFs\n",
       "version 1      71.063682   9.025052    62.038630\n",
       "version 2    1276.537296  42.757508  1233.778471"
      ]
     },
     "metadata": {},
     "output_type": "display_data"
    },
    {
     "name": "stdout",
     "output_type": "stream",
     "text": [
      "increase factors:\n"
     ]
    },
    {
     "data": {
      "text/plain": [
       "mb_docs_total    17.963287\n",
       "mb_HTMLs          4.737647\n",
       "mb_PDFs          19.887262\n",
       "dtype: float64"
      ]
     },
     "metadata": {},
     "output_type": "display_data"
    }
   ],
   "source": [
    "# calculate summed up file sizes for documents scraped by both scraper versions\n",
    "\n",
    "def get_size_mb(docs_list, path_base):\n",
    "    total_size_bytes = 0\n",
    "    for doc in docs_list:\n",
    "        size = os.path.getsize(path_base + doc)\n",
    "        total_size_bytes += size\n",
    "    total_size_mb = total_size_bytes / 1000**2\n",
    "    return total_size_mb\n",
    "\n",
    "path_base_v1 = \"data/scraped_data/\"\n",
    "s_v1_docs_total = get_size_mb(v1_docs_list, path_base=path_base_v1)\n",
    "s_v1_htmls = get_size_mb(v1_htmls, path_base=path_base_v1)\n",
    "s_v1_pdfs = get_size_mb(v1_pdfs, path_base=path_base_v1)\n",
    "\n",
    "path_base_v2 = \"data/scraped_data_v2/\"\n",
    "s_v2_docs_total = get_size_mb(v2_docs_list, path_base=path_base_v2)\n",
    "s_v2_htmls = get_size_mb(v2_htmls, path_base=path_base_v2)\n",
    "s_v2_pdfs = get_size_mb(v2_pdfs, path_base=path_base_v2)\n",
    "\n",
    "doc_sizes = pd.DataFrame(\n",
    "    {\n",
    "        \"mb_docs_total\": [s_v1_docs_total, s_v2_docs_total],\n",
    "        \"mb_HTMLs\": [s_v1_htmls, s_v2_htmls],\n",
    "        \"mb_PDFs\": [s_v1_pdfs, s_v2_pdfs]\n",
    "    },\n",
    "    index=[\"version 1\", \"version 2\"]\n",
    ")\n",
    "\n",
    "display(doc_sizes)\n",
    "\n",
    "increase_factors_s = doc_sizes.loc[\"version 2\"] / doc_sizes.loc[\"version 1\"]\n",
    "\n",
    "print(\"increase factors:\")\n",
    "display(increase_factors_s)"
   ]
  },
  {
   "cell_type": "markdown",
   "metadata": {},
   "source": [
    "The summed up file sizes in the second version are substantially larger than in the first version. Interestingly, while the increase factor for the number of HTMLs is equal to the increase factor of the number of PDFs, the increase factor for the summed up file sizes is higher for PDFs than for HTMLs.\n",
    "\n",
    "## How much irrelevant documents are collected?\n",
    "\n",
    "The scraper does not explicitly filter irrelevant documents. Irrelevant documents might lower the overall performance of the chatbot. This can happen by wasting time on processing irrelevant documents (e.g. generation of metadata and embeddings) and by confusing the LLM in the Q&A process with irrelevant documents.\n",
    "\n",
    "The following code aims at estimating the proportion of relevant / irrelevant documents collected by both versions of the scraper.\n",
    "\n",
    "### Sample documents"
   ]
  },
  {
   "cell_type": "code",
   "execution_count": 4,
   "metadata": {},
   "outputs": [],
   "source": [
    "# sample documents\n",
    "sample_size_v1_htmls = 50\n",
    "sample_size_v1_pdfs = 50\n",
    "sample_size_v2_htmls = 50\n",
    "sample_size_v2_pdfs = 50\n",
    "v1_htmls_sample = pd.DataFrame({\"doc\": sorted(v1_htmls), \"relevance\": None}).sample(n=sample_size_v1_htmls, random_state=0).sort_index()\n",
    "v1_pdfs_sample = pd.DataFrame({\"doc\": sorted(v1_pdfs), \"relevance\": None}).sample(n=sample_size_v1_pdfs, random_state=0).sort_index()\n",
    "v2_htmls_sample = pd.DataFrame({\"doc\": sorted(v2_htmls), \"relevance\": None}).sample(n=sample_size_v2_htmls, random_state=0).sort_index()\n",
    "v2_pdfs_sample = pd.DataFrame({\"doc\": sorted(v2_pdfs), \"relevance\": None}).sample(n=sample_size_v2_pdfs, random_state=0).sort_index()"
   ]
  },
  {
   "cell_type": "code",
   "execution_count": 5,
   "metadata": {},
   "outputs": [
    {
     "data": {
      "text/html": [
       "<div>\n",
       "<style scoped>\n",
       "    .dataframe tbody tr th:only-of-type {\n",
       "        vertical-align: middle;\n",
       "    }\n",
       "\n",
       "    .dataframe tbody tr th {\n",
       "        vertical-align: top;\n",
       "    }\n",
       "\n",
       "    .dataframe thead th {\n",
       "        text-align: right;\n",
       "    }\n",
       "</style>\n",
       "<table border=\"1\" class=\"dataframe\">\n",
       "  <thead>\n",
       "    <tr style=\"text-align: right;\">\n",
       "      <th></th>\n",
       "      <th>doc</th>\n",
       "      <th>relevance</th>\n",
       "    </tr>\n",
       "  </thead>\n",
       "  <tbody>\n",
       "    <tr>\n",
       "      <th>1</th>\n",
       "      <td>www.uni-mannheim.de_en_academics_advice-and-se...</td>\n",
       "      <td>None</td>\n",
       "    </tr>\n",
       "    <tr>\n",
       "      <th>2</th>\n",
       "      <td>www.uni-mannheim.de_en_academics_advice-and-se...</td>\n",
       "      <td>None</td>\n",
       "    </tr>\n",
       "    <tr>\n",
       "      <th>3</th>\n",
       "      <td>www.uni-mannheim.de_en_academics_advice-and-se...</td>\n",
       "      <td>None</td>\n",
       "    </tr>\n",
       "    <tr>\n",
       "      <th>4</th>\n",
       "      <td>www.uni-mannheim.de_en_academics_advice-and-se...</td>\n",
       "      <td>None</td>\n",
       "    </tr>\n",
       "    <tr>\n",
       "      <th>6</th>\n",
       "      <td>www.uni-mannheim.de_en_academics_applying_the-...</td>\n",
       "      <td>None</td>\n",
       "    </tr>\n",
       "  </tbody>\n",
       "</table>\n",
       "</div>"
      ],
      "text/plain": [
       "                                                 doc relevance\n",
       "1  www.uni-mannheim.de_en_academics_advice-and-se...      None\n",
       "2  www.uni-mannheim.de_en_academics_advice-and-se...      None\n",
       "3  www.uni-mannheim.de_en_academics_advice-and-se...      None\n",
       "4  www.uni-mannheim.de_en_academics_advice-and-se...      None\n",
       "6  www.uni-mannheim.de_en_academics_applying_the-...      None"
      ]
     },
     "metadata": {},
     "output_type": "display_data"
    },
    {
     "data": {
      "text/html": [
       "<div>\n",
       "<style scoped>\n",
       "    .dataframe tbody tr th:only-of-type {\n",
       "        vertical-align: middle;\n",
       "    }\n",
       "\n",
       "    .dataframe tbody tr th {\n",
       "        vertical-align: top;\n",
       "    }\n",
       "\n",
       "    .dataframe thead th {\n",
       "        text-align: right;\n",
       "    }\n",
       "</style>\n",
       "<table border=\"1\" class=\"dataframe\">\n",
       "  <thead>\n",
       "    <tr style=\"text-align: right;\">\n",
       "      <th></th>\n",
       "      <th>doc</th>\n",
       "      <th>relevance</th>\n",
       "    </tr>\n",
       "  </thead>\n",
       "  <tbody>\n",
       "    <tr>\n",
       "      <th>7</th>\n",
       "      <td>Aktualisiert_Stundenplan_MMDS_HWS2023.pdf</td>\n",
       "      <td>None</td>\n",
       "    </tr>\n",
       "    <tr>\n",
       "      <th>8</th>\n",
       "      <td>Antrag_Anerkennung_B.Sc.Wifo_Stand_2023.pdf</td>\n",
       "      <td>None</td>\n",
       "    </tr>\n",
       "    <tr>\n",
       "      <th>16</th>\n",
       "      <td>Appendix_M.Sc._Wifo_2023_24_09012024.pdf</td>\n",
       "      <td>None</td>\n",
       "    </tr>\n",
       "    <tr>\n",
       "      <th>19</th>\n",
       "      <td>Bescheinigung_MMM_Englisch_de.pdf</td>\n",
       "      <td>None</td>\n",
       "    </tr>\n",
       "    <tr>\n",
       "      <th>22</th>\n",
       "      <td>Flyer_Lehramt_Gymnasium_Uni_MA.pdf</td>\n",
       "      <td>None</td>\n",
       "    </tr>\n",
       "  </tbody>\n",
       "</table>\n",
       "</div>"
      ],
      "text/plain": [
       "                                            doc relevance\n",
       "7     Aktualisiert_Stundenplan_MMDS_HWS2023.pdf      None\n",
       "8   Antrag_Anerkennung_B.Sc.Wifo_Stand_2023.pdf      None\n",
       "16     Appendix_M.Sc._Wifo_2023_24_09012024.pdf      None\n",
       "19            Bescheinigung_MMM_Englisch_de.pdf      None\n",
       "22           Flyer_Lehramt_Gymnasium_Uni_MA.pdf      None"
      ]
     },
     "metadata": {},
     "output_type": "display_data"
    },
    {
     "data": {
      "text/html": [
       "<div>\n",
       "<style scoped>\n",
       "    .dataframe tbody tr th:only-of-type {\n",
       "        vertical-align: middle;\n",
       "    }\n",
       "\n",
       "    .dataframe tbody tr th {\n",
       "        vertical-align: top;\n",
       "    }\n",
       "\n",
       "    .dataframe thead th {\n",
       "        text-align: right;\n",
       "    }\n",
       "</style>\n",
       "<table border=\"1\" class=\"dataframe\">\n",
       "  <thead>\n",
       "    <tr style=\"text-align: right;\">\n",
       "      <th></th>\n",
       "      <th>doc</th>\n",
       "      <th>relevance</th>\n",
       "    </tr>\n",
       "  </thead>\n",
       "  <tbody>\n",
       "    <tr>\n",
       "      <th>14</th>\n",
       "      <td>www.uni-mannheim.de_datascience_details_mcds-j...</td>\n",
       "      <td>None</td>\n",
       "    </tr>\n",
       "    <tr>\n",
       "      <th>48</th>\n",
       "      <td>www.uni-mannheim.de_dws_news-archiv_dws-area-d...</td>\n",
       "      <td>None</td>\n",
       "    </tr>\n",
       "    <tr>\n",
       "      <th>64</th>\n",
       "      <td>www.uni-mannheim.de_dws_news-archiv_dws-area-w...</td>\n",
       "      <td>None</td>\n",
       "    </tr>\n",
       "    <tr>\n",
       "      <th>68</th>\n",
       "      <td>www.uni-mannheim.de_dws_news-archiv_dws-area-w...</td>\n",
       "      <td>None</td>\n",
       "    </tr>\n",
       "    <tr>\n",
       "      <th>75</th>\n",
       "      <td>www.uni-mannheim.de_dws_news-archiv_dws-resear...</td>\n",
       "      <td>None</td>\n",
       "    </tr>\n",
       "  </tbody>\n",
       "</table>\n",
       "</div>"
      ],
      "text/plain": [
       "                                                  doc relevance\n",
       "14  www.uni-mannheim.de_datascience_details_mcds-j...      None\n",
       "48  www.uni-mannheim.de_dws_news-archiv_dws-area-d...      None\n",
       "64  www.uni-mannheim.de_dws_news-archiv_dws-area-w...      None\n",
       "68  www.uni-mannheim.de_dws_news-archiv_dws-area-w...      None\n",
       "75  www.uni-mannheim.de_dws_news-archiv_dws-resear...      None"
      ]
     },
     "metadata": {},
     "output_type": "display_data"
    },
    {
     "data": {
      "text/html": [
       "<div>\n",
       "<style scoped>\n",
       "    .dataframe tbody tr th:only-of-type {\n",
       "        vertical-align: middle;\n",
       "    }\n",
       "\n",
       "    .dataframe tbody tr th {\n",
       "        vertical-align: top;\n",
       "    }\n",
       "\n",
       "    .dataframe thead th {\n",
       "        text-align: right;\n",
       "    }\n",
       "</style>\n",
       "<table border=\"1\" class=\"dataframe\">\n",
       "  <thead>\n",
       "    <tr style=\"text-align: right;\">\n",
       "      <th></th>\n",
       "      <th>doc</th>\n",
       "      <th>relevance</th>\n",
       "    </tr>\n",
       "  </thead>\n",
       "  <tbody>\n",
       "    <tr>\n",
       "      <th>14</th>\n",
       "      <td>08_31_Ringvorlesung_Data_Science_in_Action_HWS...</td>\n",
       "      <td>None</td>\n",
       "    </tr>\n",
       "    <tr>\n",
       "      <th>27</th>\n",
       "      <td>160407_Praesentation_Wima_Master.pdf</td>\n",
       "      <td>None</td>\n",
       "    </tr>\n",
       "    <tr>\n",
       "      <th>31</th>\n",
       "      <td>18-PerCom.pdf</td>\n",
       "      <td>None</td>\n",
       "    </tr>\n",
       "    <tr>\n",
       "      <th>45</th>\n",
       "      <td>201800608_NO_EKiZi_.pdf</td>\n",
       "      <td>None</td>\n",
       "    </tr>\n",
       "    <tr>\n",
       "      <th>55</th>\n",
       "      <td>2020.emnlp-main.4.pdf</td>\n",
       "      <td>None</td>\n",
       "    </tr>\n",
       "  </tbody>\n",
       "</table>\n",
       "</div>"
      ],
      "text/plain": [
       "                                                  doc relevance\n",
       "14  08_31_Ringvorlesung_Data_Science_in_Action_HWS...      None\n",
       "27               160407_Praesentation_Wima_Master.pdf      None\n",
       "31                                      18-PerCom.pdf      None\n",
       "45                            201800608_NO_EKiZi_.pdf      None\n",
       "55                              2020.emnlp-main.4.pdf      None"
      ]
     },
     "metadata": {},
     "output_type": "display_data"
    }
   ],
   "source": [
    "display(v1_htmls_sample.head())\n",
    "display(v1_pdfs_sample.head())\n",
    "display(v2_htmls_sample.head())\n",
    "display(v2_pdfs_sample.head())"
   ]
  },
  {
   "cell_type": "markdown",
   "metadata": {},
   "source": [
    "### Manually determine relevance of documents\n",
    "\n",
    "#### HTMLs gathered by scraper version 1"
   ]
  },
  {
   "cell_type": "code",
   "execution_count": 6,
   "metadata": {},
   "outputs": [
    {
     "name": "stdout",
     "output_type": "stream",
     "text": [
      "data/scraped_data/www.uni-mannheim.de_en_academics_advice-and-services_advice-for-students-with-disabilities-or-chronic-illnesses.html\n",
      "data/scraped_data/www.uni-mannheim.de_en_academics_advice-and-services_advice-services-directory.html\n",
      "data/scraped_data/www.uni-mannheim.de_en_academics_advice-and-services_changing-lanes.html\n",
      "data/scraped_data/www.uni-mannheim.de_en_academics_advice-and-services_program-ambassadors.html\n",
      "data/scraped_data/www.uni-mannheim.de_en_academics_applying_the-a-to-z-of-applying_confirming-you-are-still-eligible-to-take-exams-at-a-german-university.html\n"
     ]
    }
   ],
   "source": [
    "i = 0\n",
    "for doc in v1_htmls_sample.iloc[i: i+5, 0]:\n",
    "    print(path_base_v1 + doc)"
   ]
  },
  {
   "cell_type": "code",
   "execution_count": 7,
   "metadata": {},
   "outputs": [],
   "source": [
    "relevance = [\n",
    "    1,\n",
    "    1,\n",
    "    1,\n",
    "    1,\n",
    "    1\n",
    "]\n",
    "\n",
    "v1_htmls_sample.iloc[i: i+5, 1] = relevance"
   ]
  },
  {
   "cell_type": "code",
   "execution_count": 8,
   "metadata": {},
   "outputs": [
    {
     "name": "stdout",
     "output_type": "stream",
     "text": [
      "data/scraped_data/www.uni-mannheim.de_en_academics_applying_the-a-to-z-of-applying_masters-programs-foreign-language-requirements.html\n",
      "data/scraped_data/www.uni-mannheim.de_en_academics_applying_the-a-to-z-of-applying_selection-statutes.html\n",
      "data/scraped_data/www.uni-mannheim.de_en_academics_dates_academic-calendar.html\n",
      "data/scraped_data/www.uni-mannheim.de_en_academics_during-your-studies_examinations.html\n",
      "data/scraped_data/www.uni-mannheim.de_en_academics_during-your-studies_examinations_examination-regulations.html\n"
     ]
    }
   ],
   "source": [
    "i = 5\n",
    "for doc in v1_htmls_sample.iloc[i: i+5, 0]:\n",
    "    print(path_base_v1 + doc)"
   ]
  },
  {
   "cell_type": "code",
   "execution_count": 9,
   "metadata": {},
   "outputs": [],
   "source": [
    "relevance = [\n",
    "    1,\n",
    "    1,\n",
    "    1,\n",
    "    1,\n",
    "    1\n",
    "]\n",
    "\n",
    "v1_htmls_sample.iloc[i: i+5, 1] = relevance"
   ]
  },
  {
   "cell_type": "code",
   "execution_count": 10,
   "metadata": {},
   "outputs": [
    {
     "name": "stdout",
     "output_type": "stream",
     "text": [
      "data/scraped_data/www.uni-mannheim.de_en_academics_during-your-studies_examinations_extension-of-examination-deadlines.html\n",
      "data/scraped_data/www.uni-mannheim.de_en_academics_during-your-studies_examinations_taking-an-examination.html\n",
      "data/scraped_data/www.uni-mannheim.de_en_academics_during-your-studies_organizing-your-studies_disenrollment.html\n",
      "data/scraped_data/www.uni-mannheim.de_en_academics_during-your-studies_organizing-your-studies_fees.html\n",
      "data/scraped_data/www.uni-mannheim.de_en_academics_during-your-studies_organizing-your-studies_formalities.html\n"
     ]
    }
   ],
   "source": [
    "i = 10\n",
    "for doc in v1_htmls_sample.iloc[i: i+5, 0]:\n",
    "    print(path_base_v1 + doc)"
   ]
  },
  {
   "cell_type": "code",
   "execution_count": 11,
   "metadata": {},
   "outputs": [],
   "source": [
    "relevance = [\n",
    "    1,\n",
    "    1,\n",
    "    1,\n",
    "    1,\n",
    "    1\n",
    "]\n",
    "\n",
    "v1_htmls_sample.iloc[i: i+5, 1] = relevance"
   ]
  },
  {
   "cell_type": "code",
   "execution_count": 12,
   "metadata": {},
   "outputs": [
    {
     "name": "stdout",
     "output_type": "stream",
     "text": [
      "data/scraped_data/www.uni-mannheim.de_en_academics_during-your-studies_organizing-your-studies_parallel-studies.html\n",
      "data/scraped_data/www.uni-mannheim.de_en_academics_during-your-studies_student-services_express-service.html\n",
      "data/scraped_data/www.uni-mannheim.de_en_gender-equality-and-equal-opportunity_information-for-students.html\n",
      "data/scraped_data/www.uni-mannheim.de_infos-fuer_studieninteressierte.html\n",
      "data/scraped_data/www.uni-mannheim.de_infos-fuer_studieninteressierte_studienwahl_orientierungsberatung.html\n"
     ]
    }
   ],
   "source": [
    "i = 15\n",
    "for doc in v1_htmls_sample.iloc[i: i+5, 0]:\n",
    "    print(path_base_v1 + doc)"
   ]
  },
  {
   "cell_type": "code",
   "execution_count": 13,
   "metadata": {},
   "outputs": [],
   "source": [
    "relevance = [\n",
    "    1,\n",
    "    1,\n",
    "    1,\n",
    "    1,\n",
    "    1\n",
    "]\n",
    "\n",
    "v1_htmls_sample.iloc[i: i+5, 1] = relevance"
   ]
  },
  {
   "cell_type": "code",
   "execution_count": 14,
   "metadata": {},
   "outputs": [
    {
     "name": "stdout",
     "output_type": "stream",
     "text": [
      "data/scraped_data/www.uni-mannheim.de_infos-fuer_studieninteressierte_studienwahl_terminvereinbarung-alexandra-theobalt.html\n",
      "data/scraped_data/www.uni-mannheim.de_studium_beratung-und-service.html\n",
      "data/scraped_data/www.uni-mannheim.de_studium_beratung-und-service_spurwechsel.html\n",
      "data/scraped_data/www.uni-mannheim.de_studium_bewerbung_bewerbung-von-a-bis-z_orientierungstest-lehrerorientierungstest.html\n",
      "data/scraped_data/www.uni-mannheim.de_studium_bewerbung_bewerbung-von-a-bis-z_sprachkenntnisse-bachelorstudiengaenge.html\n"
     ]
    }
   ],
   "source": [
    "i = 20\n",
    "for doc in v1_htmls_sample.iloc[i: i+5, 0]:\n",
    "    print(path_base_v1 + doc)"
   ]
  },
  {
   "cell_type": "code",
   "execution_count": 15,
   "metadata": {},
   "outputs": [],
   "source": [
    "relevance = [\n",
    "    1,\n",
    "    1,\n",
    "    1,\n",
    "    1,\n",
    "    1\n",
    "]\n",
    "\n",
    "v1_htmls_sample.iloc[i: i+5, 1] = relevance"
   ]
  },
  {
   "cell_type": "code",
   "execution_count": 16,
   "metadata": {},
   "outputs": [
    {
     "name": "stdout",
     "output_type": "stream",
     "text": [
      "data/scraped_data/www.uni-mannheim.de_studium_bewerbung_bewerbung-von-a-bis-z_unbedenklichkeitsbescheinigung.html\n",
      "data/scraped_data/www.uni-mannheim.de_studium_im-studium_pruefungen_pruefungsordnungen.html\n",
      "data/scraped_data/www.uni-mannheim.de_studium_im-studium_studienorganisation.html\n",
      "data/scraped_data/www.uni-mannheim.de_studium_im-studium_studienorganisation_beitraege-und-gebuehren.html\n",
      "data/scraped_data/www.uni-mannheim.de_studium_im-studium_studienorganisation_beitraege-und-gebuehren_studien-gebuehren-fuer-internationale-studierende.html\n"
     ]
    }
   ],
   "source": [
    "i = 25\n",
    "for doc in v1_htmls_sample.iloc[i: i+5, 0]:\n",
    "    print(path_base_v1 + doc)"
   ]
  },
  {
   "cell_type": "code",
   "execution_count": 17,
   "metadata": {},
   "outputs": [],
   "source": [
    "relevance = [\n",
    "    1,\n",
    "    1,\n",
    "    1,\n",
    "    1,\n",
    "    1\n",
    "]\n",
    "\n",
    "v1_htmls_sample.iloc[i: i+5, 1] = relevance"
   ]
  },
  {
   "cell_type": "code",
   "execution_count": 18,
   "metadata": {},
   "outputs": [
    {
     "name": "stdout",
     "output_type": "stream",
     "text": [
      "data/scraped_data/www.uni-mannheim.de_studium_im-studium_studienorganisation_beurlaubung.html\n",
      "data/scraped_data/www.uni-mannheim.de_studium_im-studium_studienorganisation_immatrikulation.html\n",
      "data/scraped_data/www.wim.uni-mannheim.de_en_academics_organizing-your-studies_bsc-business-informatics.html\n",
      "data/scraped_data/www.wim.uni-mannheim.de_en_academics_organizing-your-studies_bsc-business-informatics_extension-of-deadlines.html\n",
      "data/scraped_data/www.wim.uni-mannheim.de_en_academics_organizing-your-studies_bsc-business-informatics_learning-agreements.html\n"
     ]
    }
   ],
   "source": [
    "i = 30\n",
    "for doc in v1_htmls_sample.iloc[i: i+5, 0]:\n",
    "    print(path_base_v1 + doc)"
   ]
  },
  {
   "cell_type": "code",
   "execution_count": 19,
   "metadata": {},
   "outputs": [],
   "source": [
    "relevance = [\n",
    "    1,\n",
    "    1,\n",
    "    1,\n",
    "    1,\n",
    "    1\n",
    "]\n",
    "\n",
    "v1_htmls_sample.iloc[i: i+5, 1] = relevance"
   ]
  },
  {
   "cell_type": "code",
   "execution_count": 20,
   "metadata": {},
   "outputs": [
    {
     "name": "stdout",
     "output_type": "stream",
     "text": [
      "data/scraped_data/www.wim.uni-mannheim.de_en_academics_organizing-your-studies_bsc-mathematics-in-business-and-economics.html\n",
      "data/scraped_data/www.wim.uni-mannheim.de_en_academics_organizing-your-studies_mannheim-master-in-data-science_learning-agreements.html\n",
      "data/scraped_data/www.wim.uni-mannheim.de_en_academics_organizing-your-studies_msc-business-informatics_extension-of-deadlines.html\n",
      "data/scraped_data/www.wim.uni-mannheim.de_en_academics_organizing-your-studies_msc-business-informatics_general-questions.html\n",
      "data/scraped_data/www.wim.uni-mannheim.de_en_academics_organizing-your-studies_msc-mathematics-in-business-and-economics.html\n"
     ]
    }
   ],
   "source": [
    "i = 35\n",
    "for doc in v1_htmls_sample.iloc[i: i+5, 0]:\n",
    "    print(path_base_v1 + doc)"
   ]
  },
  {
   "cell_type": "code",
   "execution_count": 21,
   "metadata": {},
   "outputs": [],
   "source": [
    "relevance = [\n",
    "    1,\n",
    "    1,\n",
    "    1,\n",
    "    1,\n",
    "    1\n",
    "]\n",
    "\n",
    "v1_htmls_sample.iloc[i: i+5, 1] = relevance"
   ]
  },
  {
   "cell_type": "code",
   "execution_count": 22,
   "metadata": {},
   "outputs": [
    {
     "name": "stdout",
     "output_type": "stream",
     "text": [
      "data/scraped_data/www.wim.uni-mannheim.de_en_academics_organizing-your-studies_teacher-education-programs.html\n",
      "data/scraped_data/www.wim.uni-mannheim.de_schlather_teaching_aktuelle-semester.html\n",
      "data/scraped_data/www.wim.uni-mannheim.de_studium_studienorganisation.html\n",
      "data/scraped_data/www.wim.uni-mannheim.de_studium_studienorganisation_b-sc-wirtschaftsinformatik_anerkennung-von-pruefungsleistungen.html\n",
      "data/scraped_data/www.wim.uni-mannheim.de_studium_studienorganisation_b-sc-wirtschaftsinformatik_fristverlaengerung.html\n"
     ]
    }
   ],
   "source": [
    "i = 40\n",
    "for doc in v1_htmls_sample.iloc[i: i+5, 0]:\n",
    "    print(path_base_v1 + doc)"
   ]
  },
  {
   "cell_type": "code",
   "execution_count": 23,
   "metadata": {},
   "outputs": [],
   "source": [
    "relevance = [\n",
    "    1,\n",
    "    1,\n",
    "    1,\n",
    "    1,\n",
    "    1\n",
    "]\n",
    "\n",
    "v1_htmls_sample.iloc[i: i+5, 1] = relevance"
   ]
  },
  {
   "cell_type": "code",
   "execution_count": 24,
   "metadata": {},
   "outputs": [
    {
     "name": "stdout",
     "output_type": "stream",
     "text": [
      "data/scraped_data/www.wim.uni-mannheim.de_studium_studienorganisation_lehramtsstudium.html\n",
      "data/scraped_data/www.wim.uni-mannheim.de_studium_studienorganisation_m-sc-business-informatics_general-questions.html\n",
      "data/scraped_data/www.wim.uni-mannheim.de_studium_studienorganisation_m-sc-wirtschaftsmathematik.html\n",
      "data/scraped_data/www.wim.uni-mannheim.de_studium_studienorganisation_mannheim-master-in-data-science.html\n",
      "data/scraped_data/www.wim.uni-mannheim.de_studium_studienorganisation_mannheim-master-in-data-science_recognition-of-coursework-and-examinations.html\n"
     ]
    }
   ],
   "source": [
    "i = 45\n",
    "for doc in v1_htmls_sample.iloc[i: i+5, 0]:\n",
    "    print(path_base_v1 + doc)"
   ]
  },
  {
   "cell_type": "code",
   "execution_count": 25,
   "metadata": {},
   "outputs": [],
   "source": [
    "relevance = [\n",
    "    1,\n",
    "    1,\n",
    "    1,\n",
    "    1,\n",
    "    1\n",
    "]\n",
    "\n",
    "v1_htmls_sample.iloc[i: i+5, 1] = relevance"
   ]
  },
  {
   "cell_type": "code",
   "execution_count": 26,
   "metadata": {},
   "outputs": [
    {
     "data": {
      "text/plain": [
       "relevance\n",
       "1    50\n",
       "Name: count, dtype: int64"
      ]
     },
     "execution_count": 26,
     "metadata": {},
     "output_type": "execute_result"
    }
   ],
   "source": [
    "v1_htmls_sample[\"relevance\"].value_counts()"
   ]
  },
  {
   "cell_type": "markdown",
   "metadata": {},
   "source": [
    "#### PDFs gathered by scraper version 1"
   ]
  },
  {
   "cell_type": "code",
   "execution_count": 27,
   "metadata": {},
   "outputs": [
    {
     "name": "stdout",
     "output_type": "stream",
     "text": [
      "data/scraped_data/Aktualisiert_Stundenplan_MMDS_HWS2023.pdf\n",
      "data/scraped_data/Antrag_Anerkennung_B.Sc.Wifo_Stand_2023.pdf\n",
      "data/scraped_data/Appendix_M.Sc._Wifo_2023_24_09012024.pdf\n",
      "data/scraped_data/Bescheinigung_MMM_Englisch_de.pdf\n",
      "data/scraped_data/Flyer_Lehramt_Gymnasium_Uni_MA.pdf\n"
     ]
    }
   ],
   "source": [
    "i = 0\n",
    "for doc in v1_pdfs_sample.iloc[i: i+5, 0]:\n",
    "    print(path_base_v1 + doc)"
   ]
  },
  {
   "cell_type": "code",
   "execution_count": 28,
   "metadata": {},
   "outputs": [],
   "source": [
    "relevance = [\n",
    "    1,\n",
    "    1,\n",
    "    1,\n",
    "    0,\n",
    "    1\n",
    "]\n",
    "\n",
    "v1_pdfs_sample.iloc[i: i+5, 1] = relevance"
   ]
  },
  {
   "cell_type": "code",
   "execution_count": 29,
   "metadata": {},
   "outputs": [
    {
     "name": "stdout",
     "output_type": "stream",
     "text": [
      "data/scraped_data/Formular_Berufstaetigkeit_Employment_Verification_Form.pdf\n",
      "data/scraped_data/Formular_Berufstaetigkeit_der_Eltern_Employment_Verification_Form_for_parents.pdf\n",
      "data/scraped_data/Infografik_Aufbau_BEd_Lehramt_Gymnasium.pdf\n",
      "data/scraped_data/MK_BEd_Informatik_2023_24.pdf\n",
      "data/scraped_data/MK_BSc_Wifo_2023_24.pdf\n"
     ]
    }
   ],
   "source": [
    "i = 5\n",
    "for doc in v1_pdfs_sample.iloc[i: i+5, 0]:\n",
    "    print(path_base_v1 + doc)"
   ]
  },
  {
   "cell_type": "code",
   "execution_count": 30,
   "metadata": {},
   "outputs": [],
   "source": [
    "relevance = [\n",
    "    1,\n",
    "    1,\n",
    "    1,\n",
    "    1,\n",
    "    1\n",
    "]\n",
    "\n",
    "v1_pdfs_sample.iloc[i: i+5, 1] = relevance"
   ]
  },
  {
   "cell_type": "code",
   "execution_count": 31,
   "metadata": {},
   "outputs": [
    {
     "name": "stdout",
     "output_type": "stream",
     "text": [
      "data/scraped_data/MK_LAG_Mathe_2019_20.pdf\n",
      "data/scraped_data/MK_MEd_Erweiterungsfach_Mathematik_2023_24.pdf\n",
      "data/scraped_data/MK_MEd_Informatik_2019_20.pdf\n",
      "data/scraped_data/Merkblatt_Sprachnachweise_Lehramt_Gymnasium.pdf\n",
      "data/scraped_data/PO_82_276_H_2008.pdf\n"
     ]
    }
   ],
   "source": [
    "i = 10\n",
    "for doc in v1_pdfs_sample.iloc[i: i+5, 0]:\n",
    "    print(path_base_v1 + doc)"
   ]
  },
  {
   "cell_type": "code",
   "execution_count": 32,
   "metadata": {},
   "outputs": [],
   "source": [
    "relevance = [\n",
    "    1,\n",
    "    1,\n",
    "    1,\n",
    "    1,\n",
    "    1\n",
    "]\n",
    "\n",
    "v1_pdfs_sample.iloc[i: i+5, 1] = relevance"
   ]
  },
  {
   "cell_type": "code",
   "execution_count": 33,
   "metadata": {},
   "outputs": [
    {
     "name": "stdout",
     "output_type": "stream",
     "text": [
      "data/scraped_data/PO_88_105_H_2021.pdf\n",
      "data/scraped_data/PO_88_278_H_2017.pdf\n",
      "data/scraped_data/PO_88_278_H_2020.pdf\n",
      "data/scraped_data/PO_MA_PolSci_Soc_2023_en.pdf\n",
      "data/scraped_data/PO_MA_Sowi_PolSci_Soc_2017_en.pdf\n"
     ]
    }
   ],
   "source": [
    "i = 15\n",
    "for doc in v1_pdfs_sample.iloc[i: i+5, 0]:\n",
    "    print(path_base_v1 + doc)"
   ]
  },
  {
   "cell_type": "code",
   "execution_count": 34,
   "metadata": {},
   "outputs": [],
   "source": [
    "relevance = [\n",
    "    1,\n",
    "    1,\n",
    "    1,\n",
    "    0,\n",
    "    0\n",
    "]\n",
    "\n",
    "v1_pdfs_sample.iloc[i: i+5, 1] = relevance"
   ]
  },
  {
   "cell_type": "code",
   "execution_count": 35,
   "metadata": {},
   "outputs": [
    {
     "name": "stdout",
     "output_type": "stream",
     "text": [
      "data/scraped_data/PO_MA_Sowi_PolSci_Soc_2017_neu_2019_en.pdf\n",
      "data/scraped_data/PO_MSc_MMDS_2017_2Satzung_EN.pdf\n",
      "data/scraped_data/Studium_Studienangebot_B.Ed._Deutsch_Stundenplan_EN.pdf\n",
      "data/scraped_data/Stundenplan_LAG_HWS22_Sem05_27092022.pdf\n",
      "data/scraped_data/Stundenplan_Wima_FSS23_Wahlpflichtveranstaltungen.pdf\n"
     ]
    }
   ],
   "source": [
    "i = 20\n",
    "for doc in v1_pdfs_sample.iloc[i: i+5, 0]:\n",
    "    print(path_base_v1 + doc)"
   ]
  },
  {
   "cell_type": "code",
   "execution_count": 36,
   "metadata": {},
   "outputs": [],
   "source": [
    "relevance = [\n",
    "    0,\n",
    "    1,\n",
    "    0,\n",
    "    1,\n",
    "    1\n",
    "]\n",
    "\n",
    "v1_pdfs_sample.iloc[i: i+5, 1] = relevance"
   ]
  },
  {
   "cell_type": "code",
   "execution_count": 37,
   "metadata": {},
   "outputs": [
    {
     "name": "stdout",
     "output_type": "stream",
     "text": [
      "data/scraped_data/Stundenplan_Wima_HWS23_Wahlpflichtveranstaltungen.pdf\n",
      "data/scraped_data/ZulImmaO_2019_en.pdf\n",
      "data/scraped_data/fertig_Stundenplan_Wima_HWS23_Sem01.pdf\n",
      "data/scraped_data/info_bsc.pdf\n",
      "data/scraped_data/satzung_ba_cells.pdf\n"
     ]
    }
   ],
   "source": [
    "i = 25\n",
    "for doc in v1_pdfs_sample.iloc[i: i+5, 0]:\n",
    "    print(path_base_v1 + doc)"
   ]
  },
  {
   "cell_type": "code",
   "execution_count": 38,
   "metadata": {},
   "outputs": [],
   "source": [
    "relevance = [\n",
    "    1,\n",
    "    1,\n",
    "    1,\n",
    "    1,\n",
    "    0\n",
    "]\n",
    "\n",
    "v1_pdfs_sample.iloc[i: i+5, 1] = relevance"
   ]
  },
  {
   "cell_type": "code",
   "execution_count": 39,
   "metadata": {},
   "outputs": [
    {
     "name": "stdout",
     "output_type": "stream",
     "text": [
      "data/scraped_data/satzung_ba_germanistik.pdf\n",
      "data/scraped_data/satzung_ba_kuwi_anglistik.pdf\n",
      "data/scraped_data/satzung_ba_kuwi_philosophie.pdf\n",
      "data/scraped_data/satzung_ba_vwl.pdf\n",
      "data/scraped_data/satzung_ba_wifo.pdf\n"
     ]
    }
   ],
   "source": [
    "i = 30\n",
    "for doc in v1_pdfs_sample.iloc[i: i+5, 0]:\n",
    "    print(path_base_v1 + doc)"
   ]
  },
  {
   "cell_type": "code",
   "execution_count": 40,
   "metadata": {},
   "outputs": [],
   "source": [
    "relevance = [\n",
    "    0,\n",
    "    0,\n",
    "    0,\n",
    "    0,\n",
    "    1\n",
    "]\n",
    "\n",
    "v1_pdfs_sample.iloc[i: i+5, 1] = relevance"
   ]
  },
  {
   "cell_type": "code",
   "execution_count": 41,
   "metadata": {},
   "outputs": [
    {
     "name": "stdout",
     "output_type": "stream",
     "text": [
      "data/scraped_data/satzung_ba_wima.pdf\n",
      "data/scraped_data/satzung_bed_lagpolitik.pdf\n",
      "data/scraped_data/satzung_bed_lagspanisch.pdf\n",
      "data/scraped_data/satzung_ma_accounting.pdf\n",
      "data/scraped_data/satzung_ma_geschichte.pdf\n"
     ]
    }
   ],
   "source": [
    "i = 35\n",
    "for doc in v1_pdfs_sample.iloc[i: i+5, 0]:\n",
    "    print(path_base_v1 + doc)"
   ]
  },
  {
   "cell_type": "code",
   "execution_count": 42,
   "metadata": {},
   "outputs": [],
   "source": [
    "relevance = [\n",
    "    1,\n",
    "    0,\n",
    "    0,\n",
    "    0,\n",
    "    0\n",
    "]\n",
    "\n",
    "v1_pdfs_sample.iloc[i: i+5, 1] = relevance"
   ]
  },
  {
   "cell_type": "code",
   "execution_count": 43,
   "metadata": {},
   "outputs": [
    {
     "name": "stdout",
     "output_type": "stream",
     "text": [
      "data/scraped_data/satzung_ma_kuwi_mkw.pdf\n",
      "data/scraped_data/satzung_ma_llm.pdf\n",
      "data/scraped_data/satzung_ma_mcbl_en.pdf\n",
      "data/scraped_data/satzung_ma_mkw.pdf\n",
      "data/scraped_data/satzung_ma_psychologie.pdf\n"
     ]
    }
   ],
   "source": [
    "i = 40\n",
    "for doc in v1_pdfs_sample.iloc[i: i+5, 0]:\n",
    "    print(path_base_v1 + doc)"
   ]
  },
  {
   "cell_type": "code",
   "execution_count": 44,
   "metadata": {},
   "outputs": [],
   "source": [
    "relevance = [\n",
    "    0,\n",
    "    0,\n",
    "    0,\n",
    "    0,\n",
    "    0\n",
    "]\n",
    "\n",
    "v1_pdfs_sample.iloc[i: i+5, 1] = relevance"
   ]
  },
  {
   "cell_type": "code",
   "execution_count": 45,
   "metadata": {},
   "outputs": [
    {
     "name": "stdout",
     "output_type": "stream",
     "text": [
      "data/scraped_data/satzung_ma_soziologie_en.pdf\n",
      "data/scraped_data/satzung_ma_sprachekommunikation.pdf\n",
      "data/scraped_data/satzung_ma_taxation.pdf\n",
      "data/scraped_data/satzung_ma_wifo_en.pdf\n",
      "data/scraped_data/unbedenklichkeitsbescheinigung_en.pdf\n"
     ]
    }
   ],
   "source": [
    "i = 45\n",
    "for doc in v1_pdfs_sample.iloc[i: i+5, 0]:\n",
    "    print(path_base_v1 + doc)"
   ]
  },
  {
   "cell_type": "code",
   "execution_count": 46,
   "metadata": {},
   "outputs": [],
   "source": [
    "relevance = [\n",
    "    0,\n",
    "    0,\n",
    "    0,\n",
    "    1,\n",
    "    1\n",
    "]\n",
    "\n",
    "v1_pdfs_sample.iloc[i: i+5, 1] = relevance"
   ]
  },
  {
   "cell_type": "code",
   "execution_count": 47,
   "metadata": {},
   "outputs": [
    {
     "data": {
      "text/plain": [
       "relevance\n",
       "1    28\n",
       "0    22\n",
       "Name: count, dtype: int64"
      ]
     },
     "execution_count": 47,
     "metadata": {},
     "output_type": "execute_result"
    }
   ],
   "source": [
    "v1_pdfs_sample[\"relevance\"].value_counts()"
   ]
  },
  {
   "cell_type": "markdown",
   "metadata": {},
   "source": [
    "#### HTMLs gathered by scraper version 2"
   ]
  },
  {
   "cell_type": "code",
   "execution_count": 48,
   "metadata": {},
   "outputs": [
    {
     "name": "stdout",
     "output_type": "stream",
     "text": [
      "data/scraped_data_v2/www.uni-mannheim.de_datascience_details_mcds-jahresrueckblick-2022.html\n",
      "data/scraped_data_v2/www.uni-mannheim.de_dws_news-archiv_dws-area-data-analytics_?tx_news_pi1%5Bcontroller%5D=News&tx_news_pi1%5BcurrentPage%5D=1&cHash=c4035cdb3949ace654999a0ffa7604b2.html\n",
      "data/scraped_data_v2/www.uni-mannheim.de_dws_news-archiv_dws-area-web-data-mining-research.html\n",
      "data/scraped_data_v2/www.uni-mannheim.de_dws_news-archiv_dws-area-web-data-mining-research_?tx_news_pi1%5Bcontroller%5D=News&tx_news_pi1%5BcurrentPage%5D=4&cHash=2d6383bf34d1b5d92d802650e9145edc.html\n",
      "data/scraped_data_v2/www.uni-mannheim.de_dws_news-archiv_dws-research_?tx_news_pi1%5Bcontroller%5D=News&tx_news_pi1%5BcurrentPage%5D=3&cHash=04f7ec72201e448fdc61bcd0194086cc.html\n"
     ]
    }
   ],
   "source": [
    "i = 0\n",
    "for doc in v2_htmls_sample.iloc[i: i+5, 0]:\n",
    "    print(path_base_v2 + doc)"
   ]
  },
  {
   "cell_type": "code",
   "execution_count": 49,
   "metadata": {},
   "outputs": [],
   "source": [
    "relevance = [\n",
    "    0,\n",
    "    0,\n",
    "    0,\n",
    "    0,\n",
    "    0\n",
    "]\n",
    "\n",
    "v2_htmls_sample.iloc[i: i+5, 1] = relevance"
   ]
  },
  {
   "cell_type": "code",
   "execution_count": 50,
   "metadata": {},
   "outputs": [
    {
     "name": "stdout",
     "output_type": "stream",
     "text": [
      "data/scraped_data_v2/www.uni-mannheim.de_dws_news-archiv_dws-research_?tx_news_pi1%5Bcontroller%5D=News&tx_news_pi1%5BcurrentPage%5D=4&cHash=297eeacc5ecd1ce315c65b20e6d76a9f.html\n",
      "data/scraped_data_v2/www.uni-mannheim.de_dws_news-archiv_dws-research_?tx_news_pi1%5Bcontroller%5D=News&tx_news_pi1%5BcurrentPage%5D=7&cHash=a4721ce21426b56ad94be65a5fa5baff.html\n",
      "data/scraped_data_v2/www.uni-mannheim.de_dws_news_three-papers-accepted-for-caise-2021.html\n",
      "data/scraped_data_v2/www.uni-mannheim.de_dws_people_administration_bianca-lermer.html\n",
      "data/scraped_data_v2/www.uni-mannheim.de_dws_people_alumni_dr-timo-sztyler.html\n"
     ]
    }
   ],
   "source": [
    "i = 5\n",
    "for doc in v2_htmls_sample.iloc[i: i+5, 0]:\n",
    "    print(path_base_v2 + doc)"
   ]
  },
  {
   "cell_type": "code",
   "execution_count": 51,
   "metadata": {},
   "outputs": [],
   "source": [
    "relevance = [\n",
    "    0,\n",
    "    0,\n",
    "    0,\n",
    "    1, # ?\n",
    "    0\n",
    "]\n",
    "\n",
    "v2_htmls_sample.iloc[i: i+5, 1] = relevance"
   ]
  },
  {
   "cell_type": "code",
   "execution_count": 52,
   "metadata": {},
   "outputs": [
    {
     "name": "stdout",
     "output_type": "stream",
     "text": [
      "data/scraped_data_v2/www.uni-mannheim.de_dws_people_alumni_dr-yaser-oulabi.html\n",
      "data/scraped_data_v2/www.uni-mannheim.de_dws_people_professors_prof-dr-ing-margret-keuper.html\n",
      "data/scraped_data_v2/www.uni-mannheim.de_dws_people_researchers_phd-students_alexander-brinkmann.html\n",
      "data/scraped_data_v2/www.uni-mannheim.de_dws_people_researchers_phd-students_robert-litschko.html\n",
      "data/scraped_data_v2/www.uni-mannheim.de_dws_research_projects_rapidminer-linked-open-data-extension_example-predicting-the-fuel-consumption-of-cars.html\n"
     ]
    }
   ],
   "source": [
    "i = 10\n",
    "for doc in v2_htmls_sample.iloc[i: i+5, 0]:\n",
    "    print(path_base_v2 + doc)"
   ]
  },
  {
   "cell_type": "code",
   "execution_count": 53,
   "metadata": {},
   "outputs": [],
   "source": [
    "relevance = [\n",
    "    0,\n",
    "    1, # ?\n",
    "    1, # ?\n",
    "    1, # ?\n",
    "    1  # ?\n",
    "]\n",
    "\n",
    "v2_htmls_sample.iloc[i: i+5, 1] = relevance"
   ]
  },
  {
   "cell_type": "code",
   "execution_count": 54,
   "metadata": {},
   "outputs": [
    {
     "name": "stdout",
     "output_type": "stream",
     "text": [
      "data/scraped_data_v2/www.uni-mannheim.de_dws_teaching_course-details_courses-for-master-candidates_course-archive_fss-2022_ie-678-deep-learning.html\n",
      "data/scraped_data_v2/www.uni-mannheim.de_dws_teaching_course-details_courses-for-master-candidates_cs-560-large-scale-data-management.html\n",
      "data/scraped_data_v2/www.uni-mannheim.de_dws_teaching_course-details_courses-for-master-candidates_cs-647-image-processing.html\n",
      "data/scraped_data_v2/www.uni-mannheim.de_dws_teaching_course-details_courses-for-master-candidates_ie-670-web-data-integration.html\n",
      "data/scraped_data_v2/www.uni-mannheim.de_dws_teaching_course-details_courses-for-master-candidates_ie-678-deep-learning.html\n"
     ]
    }
   ],
   "source": [
    "i = 15\n",
    "for doc in v2_htmls_sample.iloc[i: i+5, 0]:\n",
    "    print(path_base_v2 + doc)"
   ]
  },
  {
   "cell_type": "code",
   "execution_count": 55,
   "metadata": {},
   "outputs": [],
   "source": [
    "relevance = [\n",
    "    1,\n",
    "    1,\n",
    "    1,\n",
    "    1,\n",
    "    1\n",
    "]\n",
    "\n",
    "v2_htmls_sample.iloc[i: i+5, 1] = relevance"
   ]
  },
  {
   "cell_type": "code",
   "execution_count": 56,
   "metadata": {},
   "outputs": [
    {
     "name": "stdout",
     "output_type": "stream",
     "text": [
      "data/scraped_data_v2/www.uni-mannheim.de_dws_teaching_course-details_courses-for-master-candidates_ie-694-industrial-applications-of-artificial-intelligence.html\n",
      "data/scraped_data_v2/www.uni-mannheim.de_dws_teaching_course-details_courses-for-phd-candidates_computational-text-analysis.html\n",
      "data/scraped_data_v2/www.uni-mannheim.de_dws_teaching_thesis-guidelines.html\n",
      "data/scraped_data_v2/www.uni-mannheim.de_en_academics_during-your-studies_examinations_examination-regulations_examination-regulations-for-bachelors-pograms.html\n",
      "data/scraped_data_v2/www.uni-mannheim.de_en_academics_during-your-studies_student-services_express-service_order-form.html\n"
     ]
    }
   ],
   "source": [
    "i = 20\n",
    "for doc in v2_htmls_sample.iloc[i: i+5, 0]:\n",
    "    print(path_base_v2 + doc)"
   ]
  },
  {
   "cell_type": "code",
   "execution_count": 57,
   "metadata": {},
   "outputs": [],
   "source": [
    "relevance = [\n",
    "    1,\n",
    "    1,\n",
    "    1,\n",
    "    1,\n",
    "    1\n",
    "]\n",
    "\n",
    "v2_htmls_sample.iloc[i: i+5, 1] = relevance"
   ]
  },
  {
   "cell_type": "code",
   "execution_count": 58,
   "metadata": {},
   "outputs": [
    {
     "name": "stdout",
     "output_type": "stream",
     "text": [
      "data/scraped_data_v2/www.uni-mannheim.de_en_research_doctorate_doctoral-studies-in-mannheim_regulations-and-procedures-governing-the-doctoral-dissertation.html\n",
      "data/scraped_data_v2/www.uni-mannheim.de_engageeu.html\n",
      "data/scraped_data_v2/www.uni-mannheim.de_finanzierung.html\n",
      "data/scraped_data_v2/www.uni-mannheim.de_ines_forschung_publikationen.html\n",
      "data/scraped_data_v2/www.uni-mannheim.de_ines_lehre_bachelor-und-masterarbeiten.html\n"
     ]
    }
   ],
   "source": [
    "i = 25\n",
    "for doc in v2_htmls_sample.iloc[i: i+5, 0]:\n",
    "    print(path_base_v2 + doc)"
   ]
  },
  {
   "cell_type": "code",
   "execution_count": 59,
   "metadata": {},
   "outputs": [],
   "source": [
    "relevance = [\n",
    "    1,\n",
    "    1,\n",
    "    1,\n",
    "    0, # ?\n",
    "    1\n",
    "]\n",
    "\n",
    "v2_htmls_sample.iloc[i: i+5, 1] = relevance"
   ]
  },
  {
   "cell_type": "code",
   "execution_count": 60,
   "metadata": {},
   "outputs": [
    {
     "name": "stdout",
     "output_type": "stream",
     "text": [
      "data/scraped_data_v2/www.uni-mannheim.de_ines_news_?tx_news_pi1%5Baction%5D=detail&tx_news_pi1%5Bcontroller%5D=News&tx_news_pi1%5Bnews%5D=13702&cHash=233d401c69cdc185727c317bd2e38a59.html\n",
      "data/scraped_data_v2/www.uni-mannheim.de_ines_news_?tx_news_pi1%5Baction%5D=detail&tx_news_pi1%5Bcontroller%5D=News&tx_news_pi1%5Bnews%5D=18162&cHash=ae02051ea704d4ad058e28f07d0836fe.html\n",
      "data/scraped_data_v2/www.uni-mannheim.de_lwda-2018_program_keynotes.html\n",
      "data/scraped_data_v2/www.uni-mannheim.de_nachhaltigkeit_aktivitaeten_campusbetrieb_energiemanagement.html\n",
      "data/scraped_data_v2/www.uni-mannheim.de_news_new-project-on-early-stage-diabetes-detection.html\n"
     ]
    }
   ],
   "source": [
    "i = 30\n",
    "for doc in v2_htmls_sample.iloc[i: i+5, 0]:\n",
    "    print(path_base_v2 + doc)"
   ]
  },
  {
   "cell_type": "code",
   "execution_count": 61,
   "metadata": {},
   "outputs": [],
   "source": [
    "relevance = [\n",
    "    0,\n",
    "    0,\n",
    "    0,\n",
    "    0,\n",
    "    0\n",
    "]\n",
    "\n",
    "v2_htmls_sample.iloc[i: i+5, 1] = relevance"
   ]
  },
  {
   "cell_type": "code",
   "execution_count": 62,
   "metadata": {},
   "outputs": [
    {
     "name": "stdout",
     "output_type": "stream",
     "text": [
      "data/scraped_data_v2/www.uni-mannheim.de_news_paper-accepted-for-aamas-2024.html\n",
      "data/scraped_data_v2/www.uni-mannheim.de_newsroom_newsletter.html\n",
      "data/scraped_data_v2/www.uni-mannheim.de_studium_beratung-und-service_beratungswegweiser_?tx_umaguidance_umaguidance%5Bcontroller%5D=UmaGuidance&tx_umaguidance_umaguidance%5BstudentStatus%5D=interested&cHash=61067b8c514ddc311aaaa038f3a6588a.html\n",
      "data/scraped_data_v2/www.uni-mannheim.de_studium_beratung-und-service_uni-scouts_mannheim-master-in-management-mmm.html\n",
      "data/scraped_data_v2/www.uni-mannheim.de_studium_beratung-und-service_uni-scouts_unternehmensjurist-in-kombinationsstudiengang-llb-staatsexamen.html\n"
     ]
    }
   ],
   "source": [
    "i = 35\n",
    "for doc in v2_htmls_sample.iloc[i: i+5, 0]:\n",
    "    print(path_base_v2 + doc)"
   ]
  },
  {
   "cell_type": "code",
   "execution_count": 63,
   "metadata": {},
   "outputs": [],
   "source": [
    "relevance = [\n",
    "    0,\n",
    "    0,\n",
    "    1,\n",
    "    0,\n",
    "    0\n",
    "]\n",
    "\n",
    "v2_htmls_sample.iloc[i: i+5, 1] = relevance"
   ]
  },
  {
   "cell_type": "code",
   "execution_count": 64,
   "metadata": {},
   "outputs": [
    {
     "name": "stdout",
     "output_type": "stream",
     "text": [
      "data/scraped_data_v2/www.uni-mannheim.de_studium_beratung-und-service_uni-scouts_wirtschaftsinformatik-bachelor.html\n",
      "data/scraped_data_v2/www.uni-mannheim.de_studium_im-studium_studienbueros_express-service_bestellformular.html\n",
      "data/scraped_data_v2/www.uni-mannheim.de_studium_im-studium_studienorganisation_formalitaeten.html\n",
      "data/scraped_data_v2/www.uni-mannheim.de_studium_termine_semesterzeiten.html\n",
      "data/scraped_data_v2/www.wim.uni-mannheim.de_en_academics_organizing-your-studies_bsc-business-informatics.html\n"
     ]
    }
   ],
   "source": [
    "i = 40\n",
    "for doc in v2_htmls_sample.iloc[i: i+5, 0]:\n",
    "    print(path_base_v2 + doc)"
   ]
  },
  {
   "cell_type": "code",
   "execution_count": 65,
   "metadata": {},
   "outputs": [],
   "source": [
    "relevance = [\n",
    "    1,\n",
    "    1,\n",
    "    1,\n",
    "    1,\n",
    "    1\n",
    "]\n",
    "\n",
    "v2_htmls_sample.iloc[i: i+5, 1] = relevance"
   ]
  },
  {
   "cell_type": "code",
   "execution_count": 66,
   "metadata": {},
   "outputs": [
    {
     "name": "stdout",
     "output_type": "stream",
     "text": [
      "data/scraped_data_v2/www.wim.uni-mannheim.de_en_academics_organizing-your-studies_mannheim-master-in-data-science_learning-agreements.html\n",
      "data/scraped_data_v2/www.wim.uni-mannheim.de_en_international_information-for-outgoing-students_course-selection-and-recognition.html\n",
      "data/scraped_data_v2/www.wim.uni-mannheim.de_en_news_career-fair-mint-marketplace-2023.html\n",
      "data/scraped_data_v2/www.wim.uni-mannheim.de_internationales.html\n",
      "data/scraped_data_v2/www.wim.uni-mannheim.de_studium_studienorganisation_mannheim-master-in-data-science.html\n"
     ]
    }
   ],
   "source": [
    "i = 45\n",
    "for doc in v2_htmls_sample.iloc[i: i+5, 0]:\n",
    "    print(path_base_v2 + doc)"
   ]
  },
  {
   "cell_type": "code",
   "execution_count": 67,
   "metadata": {},
   "outputs": [],
   "source": [
    "relevance = [\n",
    "    1,\n",
    "    1,\n",
    "    0,\n",
    "    1,\n",
    "    1\n",
    "]\n",
    "\n",
    "v2_htmls_sample.iloc[i: i+5, 1] = relevance"
   ]
  },
  {
   "cell_type": "code",
   "execution_count": 68,
   "metadata": {},
   "outputs": [
    {
     "data": {
      "text/plain": [
       "relevance\n",
       "1    29\n",
       "0    21\n",
       "Name: count, dtype: int64"
      ]
     },
     "execution_count": 68,
     "metadata": {},
     "output_type": "execute_result"
    }
   ],
   "source": [
    "v2_htmls_sample[\"relevance\"].value_counts()"
   ]
  },
  {
   "cell_type": "markdown",
   "metadata": {},
   "source": [
    "#### PDFs gathered by scraper version 2"
   ]
  },
  {
   "cell_type": "code",
   "execution_count": 69,
   "metadata": {},
   "outputs": [
    {
     "name": "stdout",
     "output_type": "stream",
     "text": [
      "data/scraped_data_v2/08_31_Ringvorlesung_Data_Science_in_Action_HWS23.pdf\n",
      "data/scraped_data_v2/160407_Praesentation_Wima_Master.pdf\n",
      "data/scraped_data_v2/18-PerCom.pdf\n",
      "data/scraped_data_v2/201800608_NO_EKiZi_.pdf\n",
      "data/scraped_data_v2/2020.emnlp-main.4.pdf\n"
     ]
    }
   ],
   "source": [
    "i = 0\n",
    "for doc in v2_pdfs_sample.iloc[i: i+5, 0]:\n",
    "    print(path_base_v2 + doc)"
   ]
  },
  {
   "cell_type": "code",
   "execution_count": 70,
   "metadata": {},
   "outputs": [],
   "source": [
    "relevance = [\n",
    "    1,\n",
    "    1, # ?\n",
    "    0,\n",
    "    1, # ?\n",
    "    0\n",
    "]\n",
    "\n",
    "v2_pdfs_sample.iloc[i: i+5, 1] = relevance"
   ]
  },
  {
   "cell_type": "code",
   "execution_count": 71,
   "metadata": {},
   "outputs": [
    {
     "name": "stdout",
     "output_type": "stream",
     "text": [
      "data/scraped_data_v2/2024_02_mzes_hiwi_gutfleisch.pdf\n",
      "data/scraped_data_v2/3586163.pdf\n",
      "data/scraped_data_v2/6_Laakso_Researching_Research.pdf\n",
      "data/scraped_data_v2/DB_Exercise_12_Application_Development.pdf\n",
      "data/scraped_data_v2/DM07-Parameter-Tuning-V1.pdf\n"
     ]
    }
   ],
   "source": [
    "i = 5\n",
    "for doc in v2_pdfs_sample.iloc[i: i+5, 0]:\n",
    "    print(path_base_v2 + doc)"
   ]
  },
  {
   "cell_type": "code",
   "execution_count": 72,
   "metadata": {},
   "outputs": [],
   "source": [
    "relevance = [\n",
    "    0,\n",
    "    0,\n",
    "    0,\n",
    "    0,\n",
    "    0\n",
    "]\n",
    "\n",
    "v2_pdfs_sample.iloc[i: i+5, 1] = relevance"
   ]
  },
  {
   "cell_type": "code",
   "execution_count": 73,
   "metadata": {},
   "outputs": [
    {
     "name": "stdout",
     "output_type": "stream",
     "text": [
      "data/scraped_data_v2/DM07-StudentProjects-FSS2021-Presentations.pdf\n",
      "data/scraped_data_v2/ENGAGE_Formblatt_Hilfskraftmittel.pdf\n",
      "data/scraped_data_v2/Evaluation_Web_Data_Integration_Bizer_HWS2017.pdf\n",
      "data/scraped_data_v2/Flyer_Erstanlaufstelle_englisch_23_03_2021.pdf\n",
      "data/scraped_data_v2/KG02-RDF-v1.pdf\n"
     ]
    }
   ],
   "source": [
    "i = 10\n",
    "for doc in v2_pdfs_sample.iloc[i: i+5, 0]:\n",
    "    print(path_base_v2 + doc)"
   ]
  },
  {
   "cell_type": "code",
   "execution_count": 74,
   "metadata": {},
   "outputs": [],
   "source": [
    "relevance = [\n",
    "    0, # ?\n",
    "    0,\n",
    "    0,\n",
    "    1, # ?\n",
    "    0\n",
    "]\n",
    "\n",
    "v2_pdfs_sample.iloc[i: i+5, 1] = relevance"
   ]
  },
  {
   "cell_type": "code",
   "execution_count": 75,
   "metadata": {},
   "outputs": [
    {
     "name": "stdout",
     "output_type": "stream",
     "text": [
      "data/scraped_data_v2/KG03-RDFS-v1.pdf\n",
      "data/scraped_data_v2/KG07-Labeled-Property-Graphs-v2.pdf\n",
      "data/scraped_data_v2/Learning_Agreement_Antragsteller_Bsc_Msc_Wifo___MMDS_Deckblatt.pdf\n",
      "data/scraped_data_v2/LectureEvaluation_WebDataIntegration_BizerLehmberg_HWS2015.pdf\n",
      "data/scraped_data_v2/LectureEvaluation_WebDataIntegration_BizerPaulheimBryl_HWS2013.pdf\n"
     ]
    }
   ],
   "source": [
    "i = 15\n",
    "for doc in v2_pdfs_sample.iloc[i: i+5, 0]:\n",
    "    print(path_base_v2 + doc)"
   ]
  },
  {
   "cell_type": "code",
   "execution_count": 76,
   "metadata": {},
   "outputs": [],
   "source": [
    "relevance = [\n",
    "    0,\n",
    "    0,\n",
    "    1,\n",
    "    0,\n",
    "    0\n",
    "]\n",
    "\n",
    "v2_pdfs_sample.iloc[i: i+5, 1] = relevance"
   ]
  },
  {
   "cell_type": "code",
   "execution_count": 77,
   "metadata": {},
   "outputs": [
    {
     "name": "stdout",
     "output_type": "stream",
     "text": [
      "data/scraped_data_v2/Matching_patterns.pdf\n",
      "data/scraped_data_v2/MinIE%20Minimizing%20Facts%20in%20Open%20Information%20Extraction.pdf\n",
      "data/scraped_data_v2/Mobilitaetsangebote_fuer_Studierende_AStA.pdf\n",
      "data/scraped_data_v2/Nachhaltigkeit_Lehre_PM-23137.pdf\n",
      "data/scraped_data_v2/OA_Exploring%20Semi-Supervised_sensors-18-02639.pdf\n"
     ]
    }
   ],
   "source": [
    "i = 20\n",
    "for doc in v2_pdfs_sample.iloc[i: i+5, 0]:\n",
    "    print(path_base_v2 + doc)"
   ]
  },
  {
   "cell_type": "code",
   "execution_count": 78,
   "metadata": {},
   "outputs": [],
   "source": [
    "relevance = [\n",
    "    0,\n",
    "    0,\n",
    "    0, # ? \n",
    "    0,\n",
    "    0\n",
    "]\n",
    "\n",
    "v2_pdfs_sample.iloc[i: i+5, 1] = relevance"
   ]
  },
  {
   "cell_type": "code",
   "execution_count": 79,
   "metadata": {},
   "outputs": [
    {
     "name": "stdout",
     "output_type": "stream",
     "text": [
      "data/scraped_data_v2/PO_Kombinationsstudiengang_Rechtswissenschaft_JuSPO_2011_4Satzung.pdf\n",
      "data/scraped_data_v2/PO_MA_MKW_2014_neu.pdf\n",
      "data/scraped_data_v2/Schlicht11mapresolve.pdf\n",
      "data/scraped_data_v2/Stellenausschreibung_DHBW_CyberSecurity_Dez23.pdf\n",
      "data/scraped_data_v2/StuO_Gap_Year_2019.pdf\n"
     ]
    }
   ],
   "source": [
    "i = 25\n",
    "for doc in v2_pdfs_sample.iloc[i: i+5, 0]:\n",
    "    print(path_base_v2 + doc)"
   ]
  },
  {
   "cell_type": "code",
   "execution_count": 80,
   "metadata": {},
   "outputs": [],
   "source": [
    "relevance = [\n",
    "    0,\n",
    "    0,\n",
    "    0,\n",
    "    0,\n",
    "    0\n",
    "]\n",
    "\n",
    "v2_pdfs_sample.iloc[i: i+5, 1] = relevance"
   ]
  },
  {
   "cell_type": "code",
   "execution_count": 81,
   "metadata": {},
   "outputs": [
    {
     "name": "stdout",
     "output_type": "stream",
     "text": [
      "data/scraped_data_v2/Stuckenschmidt07appproximate.pdf\n",
      "data/scraped_data_v2/VL_Semantic_Web_Technologies_Paulheim_HWS2016_correction.pdf\n",
      "data/scraped_data_v2/ba_bf_romanistik_spanisch_2012.pdf\n",
      "data/scraped_data_v2/beedkar16desq.pdf\n",
      "data/scraped_data_v2/bigtalk.pdf\n"
     ]
    }
   ],
   "source": [
    "i = 30\n",
    "for doc in v2_pdfs_sample.iloc[i: i+5, 0]:\n",
    "    print(path_base_v2 + doc)"
   ]
  },
  {
   "cell_type": "code",
   "execution_count": 82,
   "metadata": {},
   "outputs": [],
   "source": [
    "relevance = [\n",
    "    0,\n",
    "    0,\n",
    "    0,\n",
    "    0,\n",
    "    0\n",
    "]\n",
    "\n",
    "v2_pdfs_sample.iloc[i: i+5, 1] = relevance"
   ]
  },
  {
   "cell_type": "code",
   "execution_count": 83,
   "metadata": {},
   "outputs": [
    {
     "name": "stdout",
     "output_type": "stream",
     "text": [
      "data/scraped_data_v2/dissertation_portisch.pdf\n",
      "data/scraped_data_v2/gashteovski20-align.pdf\n",
      "data/scraped_data_v2/gemulla07multisetsampling.pdf\n",
      "data/scraped_data_v2/gemulla11dsgd.pdf\n",
      "data/scraped_data_v2/l7_3_5_001.pdf\n"
     ]
    }
   ],
   "source": [
    "i = 35\n",
    "for doc in v2_pdfs_sample.iloc[i: i+5, 0]:\n",
    "    print(path_base_v2 + doc)"
   ]
  },
  {
   "cell_type": "code",
   "execution_count": 84,
   "metadata": {},
   "outputs": [],
   "source": [
    "relevance = [\n",
    "    0,\n",
    "    0,\n",
    "    0,\n",
    "    0,\n",
    "    0\n",
    "]\n",
    "\n",
    "v2_pdfs_sample.iloc[i: i+5, 1] = relevance"
   ]
  },
  {
   "cell_type": "code",
   "execution_count": 85,
   "metadata": {},
   "outputs": [
    {
     "name": "stdout",
     "output_type": "stream",
     "text": [
      "data/scraped_data_v2/makari13-gbm-slides.pdf\n",
      "data/scraped_data_v2/o_142.pdf\n",
      "data/scraped_data_v2/o_169.pdf\n",
      "data/scraped_data_v2/om2011_proceedings.pdf\n",
      "data/scraped_data_v2/p101-diete.pdf\n"
     ]
    }
   ],
   "source": [
    "i = 40\n",
    "for doc in v2_pdfs_sample.iloc[i: i+5, 0]:\n",
    "    print(path_base_v2 + doc)"
   ]
  },
  {
   "cell_type": "code",
   "execution_count": 86,
   "metadata": {},
   "outputs": [],
   "source": [
    "relevance = [\n",
    "    0,\n",
    "    0,\n",
    "    0,\n",
    "    0,\n",
    "    0\n",
    "]\n",
    "\n",
    "v2_pdfs_sample.iloc[i: i+5, 1] = relevance"
   ]
  },
  {
   "cell_type": "code",
   "execution_count": 87,
   "metadata": {},
   "outputs": [
    {
     "name": "stdout",
     "output_type": "stream",
     "text": [
      "data/scraped_data_v2/s10579-022-09581-9.pdf\n",
      "data/scraped_data_v2/satzung_ba_kuwi_philosophie.pdf\n",
      "data/scraped_data_v2/satzung_ma_mcl.pdf\n",
      "data/scraped_data_v2/semantic-browser.pdf\n",
      "data/scraped_data_v2/semstats_2013.pdf\n"
     ]
    }
   ],
   "source": [
    "i = 45\n",
    "for doc in v2_pdfs_sample.iloc[i: i+5, 0]:\n",
    "    print(path_base_v2 + doc)"
   ]
  },
  {
   "cell_type": "code",
   "execution_count": 88,
   "metadata": {},
   "outputs": [],
   "source": [
    "relevance = [\n",
    "    0,\n",
    "    0,\n",
    "    0,\n",
    "    0,\n",
    "    0\n",
    "]\n",
    "\n",
    "v2_pdfs_sample.iloc[i: i+5, 1] = relevance"
   ]
  },
  {
   "cell_type": "code",
   "execution_count": 89,
   "metadata": {},
   "outputs": [
    {
     "data": {
      "text/plain": [
       "relevance\n",
       "0    45\n",
       "1     5\n",
       "Name: count, dtype: int64"
      ]
     },
     "execution_count": 89,
     "metadata": {},
     "output_type": "execute_result"
    }
   ],
   "source": [
    "v2_pdfs_sample[\"relevance\"].value_counts()"
   ]
  },
  {
   "cell_type": "markdown",
   "metadata": {},
   "source": [
    "### Save data"
   ]
  },
  {
   "cell_type": "code",
   "execution_count": 90,
   "metadata": {},
   "outputs": [],
   "source": [
    "try:\n",
    "    saved_files = os.listdir(\"data/content_relevance_data\")\n",
    "except FileNotFoundError:\n",
    "    os.mkdir(\"data/content_relevance_data/\")\n",
    "if len(saved_files) == 0:\n",
    "    v1_htmls_sample.to_csv(\"data/content_relevance_data/v1_htmls_sample.csv\", index=False)\n",
    "    v1_pdfs_sample.to_csv(\"data/content_relevance_data/v1_pdfs_sample.csv\", index=False)\n",
    "    v2_htmls_sample.to_csv(\"data/content_relevance_data/v2_htmls_sample.csv\", index=False)\n",
    "    v2_pdfs_sample.to_csv(\"data/content_relevance_data/v2_pdfs_sample.csv\", index=False)"
   ]
  },
  {
   "cell_type": "markdown",
   "metadata": {},
   "source": [
    "### Estimate proportion of relevant / non-relevant documents"
   ]
  },
  {
   "cell_type": "code",
   "execution_count": 91,
   "metadata": {},
   "outputs": [
    {
     "name": "stdout",
     "output_type": "stream",
     "text": [
      "Mean content relevance (HTMLs, scraper version 1): 1.0\n",
      "Mean content relevance (PDFs, scraper version 1): 0.56\n",
      "Mean content relevance (HTMLs, scraper version 2): 0.58\n",
      "Mean content relevance (PDFs, scraper version 2): 0.1\n"
     ]
    }
   ],
   "source": [
    "p_hat_v1_htmls = v1_htmls_sample[\"relevance\"].mean()\n",
    "p_hat_v1_pdfs = v1_pdfs_sample[\"relevance\"].mean()\n",
    "p_hat_v2_htmls = v2_htmls_sample[\"relevance\"].mean()\n",
    "p_hat_v2_pdfs = v2_pdfs_sample[\"relevance\"].mean()\n",
    "\n",
    "print(f\"Mean content relevance (HTMLs, scraper version 1): {p_hat_v1_htmls}\")\n",
    "print(f\"Mean content relevance (PDFs, scraper version 1): {p_hat_v1_pdfs}\")\n",
    "print(f\"Mean content relevance (HTMLs, scraper version 2): {p_hat_v2_htmls}\")\n",
    "print(f\"Mean content relevance (PDFs, scraper version 2): {p_hat_v2_pdfs}\")"
   ]
  },
  {
   "cell_type": "code",
   "execution_count": 92,
   "metadata": {},
   "outputs": [
    {
     "name": "stdout",
     "output_type": "stream",
     "text": [
      "All confidence intervals below are calculated using normal approximation.\n",
      "\n",
      "CI with alpha=0.05 (HTMLs, scraper version 1): (1.0, 1.0)\n",
      "CI with alpha=0.05 (PDFs, scraper version 1): (0.4224110866807189, 0.6975889133192812)\n",
      "CI with alpha=0.05 (HTMLs, scraper version 2): (0.44319507547452175, 0.7168049245254782)\n",
      "CI with alpha=0.05 (PDFs, scraper version 2): (0.01684577053901931, 0.1831542294609807)\n"
     ]
    }
   ],
   "source": [
    "# confidence intervals using normal approximation and alpha = 0.05\n",
    "ci_v1_htmls = proportion_confint(count=v1_htmls_sample[\"relevance\"].sum(), nobs=len(v1_htmls_sample), alpha=0.05)\n",
    "ci_v1_pdfs = proportion_confint(count=v1_pdfs_sample[\"relevance\"].sum(), nobs=len(v1_pdfs_sample), alpha=0.05)\n",
    "ci_v2_htmls = proportion_confint(count=v2_htmls_sample[\"relevance\"].sum(), nobs=len(v2_htmls_sample), alpha=0.05)\n",
    "ci_v2_pdfs = proportion_confint(count=v2_pdfs_sample[\"relevance\"].sum(), nobs=len(v2_pdfs_sample), alpha=0.05)\n",
    "\n",
    "print(f\"All confidence intervals below are calculated using normal approximation.\\n\")\n",
    "print(f\"CI with alpha=0.05 (HTMLs, scraper version 1): {ci_v1_htmls}\")\n",
    "print(f\"CI with alpha=0.05 (PDFs, scraper version 1): {ci_v1_pdfs}\")\n",
    "print(f\"CI with alpha=0.05 (HTMLs, scraper version 2): {ci_v2_htmls}\")\n",
    "print(f\"CI with alpha=0.05 (PDFs, scraper version 2): {ci_v2_pdfs}\")"
   ]
  },
  {
   "cell_type": "code",
   "execution_count": 93,
   "metadata": {},
   "outputs": [],
   "source": [
    "def get_ci(k, n, N, conf_level=0.95):\n",
    "    \"\"\"\n",
    "    Use this function to calculate the confidence interval for finite populations\n",
    "    with normal approximation and finite population correction.\n",
    "\n",
    "    :param k: number of successes in the sample\n",
    "    :param n: sample size\n",
    "    :param N: population size\n",
    "    :param conf_level: confidence level\n",
    "    \"\"\"\n",
    "\n",
    "    if conf_level == 0.95:\n",
    "        z = 1.96\n",
    "    elif conf_level == 0.9:\n",
    "        z = 1.645\n",
    "    elif conf_level == 0.98:\n",
    "        z = 2.326\n",
    "    else:\n",
    "        print(\"Use confidence levels of 0.9, 0.95 or 0.98 only!\")\n",
    "        return None\n",
    "    p = k / n\n",
    "    term1 = ((p * (1 - p)) / n) ** 0.5\n",
    "    fin_pop_corr = ((N - n) / (N - 1)) ** 0.5\n",
    "    ci = p - (z * term1 * fin_pop_corr), p + (z * term1 * fin_pop_corr)\n",
    "    return ci"
   ]
  },
  {
   "cell_type": "code",
   "execution_count": 94,
   "metadata": {},
   "outputs": [
    {
     "name": "stdout",
     "output_type": "stream",
     "text": [
      "All confidence intervals below are calculated using normal approximation with finite population correction.\n",
      "\n",
      "CI with alpha=0.05 (HTMLs, scraper version 1): (1.0, 1.0)\n",
      "CI with alpha=0.05 (PDFs, scraper version 1): (0.44539780944501983, 0.6746021905549803)\n",
      "CI with alpha=0.05 (HTMLs, scraper version 2): (0.44831356769896935, 0.7116864323010306)\n",
      "CI with alpha=0.05 (PDFs, scraper version 2): (0.01894544946190381, 0.18105455053809622)\n"
     ]
    }
   ],
   "source": [
    "# confidence intervals using normal approximation with finite population correction and alpha = 0.95\n",
    "ci_fpc_v1_htmls = get_ci(k=v1_htmls_sample[\"relevance\"].sum(), n=len(v1_htmls_sample), N=len(v1_htmls), conf_level=0.95)\n",
    "ci_fpc_v1_pdfs = get_ci(k=v1_pdfs_sample[\"relevance\"].sum(), n=len(v1_pdfs_sample), N=len(v1_pdfs), conf_level=0.95)\n",
    "ci_fpc_v2_htmls = get_ci(k=v2_htmls_sample[\"relevance\"].sum(), n=len(v2_htmls_sample), N=len(v2_htmls), conf_level=0.95)\n",
    "ci_fpc_v2_pdfs = get_ci(k=v2_pdfs_sample[\"relevance\"].sum(), n=len(v2_pdfs_sample), N=len(v2_pdfs), conf_level=0.95)\n",
    "\n",
    "print(f\"All confidence intervals below are calculated using normal approximation with finite population correction.\\n\")\n",
    "print(f\"CI with alpha=0.05 (HTMLs, scraper version 1): {ci_fpc_v1_htmls}\")\n",
    "print(f\"CI with alpha=0.05 (PDFs, scraper version 1): {ci_fpc_v1_pdfs}\")\n",
    "print(f\"CI with alpha=0.05 (HTMLs, scraper version 2): {ci_fpc_v2_htmls}\")\n",
    "print(f\"CI with alpha=0.05 (PDFs, scraper version 2): {ci_fpc_v2_pdfs}\")"
   ]
  }
 ],
 "metadata": {
  "kernelspec": {
   "display_name": "chatbot",
   "language": "python",
   "name": "python3"
  },
  "language_info": {
   "codemirror_mode": {
    "name": "ipython",
    "version": 3
   },
   "file_extension": ".py",
   "mimetype": "text/x-python",
   "name": "python",
   "nbconvert_exporter": "python",
   "pygments_lexer": "ipython3",
   "version": "3.11.5"
  }
 },
 "nbformat": 4,
 "nbformat_minor": 2
}
