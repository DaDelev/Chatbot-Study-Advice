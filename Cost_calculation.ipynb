{
 "cells": [
  {
   "cell_type": "markdown",
   "metadata": {},
   "source": [
    "# Cost Calculation"
   ]
  },
  {
   "cell_type": "code",
   "execution_count": 1,
   "metadata": {},
   "outputs": [],
   "source": [
    "import os\n",
    "import numpy as np\n",
    "import pandas as pd\n",
    "import matplotlib.pyplot as plt\n",
    "from langchain.document_loaders import UnstructuredHTMLLoader, UnstructuredPDFLoader\n",
    "from langchain.chat_models import ChatOpenAI\n",
    "from langchain_community.embeddings import OpenAIEmbeddings\n",
    "from functools import partial\n",
    "from langchain.prompts import PromptTemplate\n",
    "from langchain_core.prompts import format_document"
   ]
  },
  {
   "cell_type": "markdown",
   "metadata": {},
   "source": [
    "## API Costs LLM\n",
    "\n",
    "**LLM**: gpt-3.5-turbo-0125\n",
    "\n",
    "*Note: We are using gpt-3.5-turbo-0613 at the moment. The API will change to gpt-3.5-turbo-0125 automatically on February 16th 2024.*\n",
    "\n",
    "- **context window**: 16,385 tokens\n",
    "- **input cost**: 0.0005$ / 1k tokens\n",
    "- **output cost**: 0.0015$ / 1k tokens\n",
    "\n",
    "sources: \n",
    "\n",
    "- https://platform.openai.com/docs/models/gpt-3-5-turbo\n",
    "- https://openai.com/pricing\n",
    "\n",
    "\n",
    "## API Costs Embeddings\n",
    "\n",
    "**Embedding model**: text-embedding-ada-002\n",
    "\n",
    "> Most capable 2nd generation embedding model, replacing 16 first generation models\n",
    "\n",
    "- **input cost**: 0.0001$ / 1k tokens\n",
    "\n",
    "**Alternative embedding model**: text-embedding-3-small\n",
    "\n",
    "*Note: We are using text-embedding-ada-002 at the moment. We should switch to text-embedding-3-small. This model creates embeddings of the same size, costs 1/5 of the ada model and seems to have a better performance.*\n",
    "\n",
    "> Increased performance over 2nd generation ada embedding model\n",
    "\n",
    "- **input cost**: 0.00002$ / 1k tokens\n",
    "\n",
    "sources: \n",
    "\n",
    "- https://platform.openai.com/docs/models/embeddings\n",
    "- https://openai.com/pricing\n",
    "\n",
    "\n",
    "## What number of tokens do our documents have?\n",
    "\n",
    "The following code visualizes the length of our documents in terms of tokens. This is important with consideration to the token input limit of the LLM we are using. "
   ]
  },
  {
   "cell_type": "code",
   "execution_count": 2,
   "metadata": {},
   "outputs": [
    {
     "name": "stdout",
     "output_type": "stream",
     "text": [
      "number of HTMLs: 111\n",
      "number of PDFs: 161\n"
     ]
    }
   ],
   "source": [
    "# get a list of all scraped files\n",
    "base_path = \"data/scraped_data/\"\n",
    "docs_list = os.listdir(base_path)\n",
    "\n",
    "# get separate lists of PDF and HTML files\n",
    "htmls = [d for d in docs_list if d.split(\".\")[-1] == \"html\"]\n",
    "pdfs = [d for d in docs_list if d.split(\".\")[-1] == \"pdf\"]\n",
    "n_docs_total = len(docs_list)\n",
    "n_htmls = len(htmls)\n",
    "n_pdfs = len(pdfs)\n",
    "\n",
    "print(f\"number of HTMLs: {n_htmls}\")\n",
    "print(f\"number of PDFs: {n_pdfs}\")"
   ]
  },
  {
   "cell_type": "code",
   "execution_count": 3,
   "metadata": {},
   "outputs": [
    {
     "name": "stdout",
     "output_type": "stream",
     "text": [
      "number of sampled HTMLs: 111\n",
      "number of sampled PDFs: 161\n"
     ]
    }
   ],
   "source": [
    "# if sample is set as true a sample of the files is used for the following calculations\n",
    "# otherwise the whole dataset is used\n",
    "sample = False\n",
    "if sample:\n",
    "    np.random.seed(0)\n",
    "    sample_size_htmls = 50\n",
    "    sample_size_pdfs = 50\n",
    "    htmls_sample = np.random.choice(htmls, 50, replace=False)\n",
    "    pdfs_sample = np.random.choice(pdfs, 50, replace=False)\n",
    "else:\n",
    "    htmls_sample = htmls\n",
    "    pdfs_sample = pdfs\n",
    "print(f\"number of sampled HTMLs: {len(htmls_sample)}\")\n",
    "print(f\"number of sampled PDFs: {len(pdfs_sample)}\")\n",
    "\n",
    "# load files as langchain document objects\n",
    "html_documents = []\n",
    "for file in htmls_sample:\n",
    "    loader = UnstructuredHTMLLoader(base_path + file)\n",
    "    html_documents.extend(loader.load())\n",
    "pdf_documents = []\n",
    "for file in pdfs_sample:\n",
    "    loader = UnstructuredPDFLoader(base_path + file)\n",
    "    pdf_documents.extend(loader.load())"
   ]
  },
  {
   "cell_type": "code",
   "execution_count": 4,
   "metadata": {},
   "outputs": [
    {
     "name": "stderr",
     "output_type": "stream",
     "text": [
      "/home/felix/anaconda3/envs/chatbot/lib/python3.11/site-packages/langchain_core/_api/deprecation.py:115: LangChainDeprecationWarning: The class `ChatOpenAI` was deprecated in LangChain 0.1.0 and will be removed in 0.2.0. Use langchain_openai.ChatOpenAI instead.\n",
      "  warn_deprecated(\n"
     ]
    }
   ],
   "source": [
    "# prompt and method for converting document to str\n",
    "document_prompt = PromptTemplate.from_template(\"{page_content}\")\n",
    "partial_format_document = partial(format_document, prompt=document_prompt)\n",
    "\n",
    "# get token counts for documents in samples\n",
    "llm = ChatOpenAI(temperature=0, model=\"gpt-3.5-turbo-0125\")\n",
    "def get_num_tokens_single_doc(doc):\n",
    "    return llm.get_num_tokens(partial_format_document(doc))\n",
    "\n",
    "html_token_counts = np.array([])\n",
    "for i, doc in enumerate(html_documents):\n",
    "    n_tokens = get_num_tokens_single_doc(doc)\n",
    "    html_token_counts = np.append(html_token_counts, n_tokens)\n",
    "pdf_token_counts = np.array([])\n",
    "for i, doc in enumerate(pdf_documents):\n",
    "    n_tokens = get_num_tokens_single_doc(doc)\n",
    "    pdf_token_counts = np.append(pdf_token_counts, n_tokens)"
   ]
  },
  {
   "cell_type": "code",
   "execution_count": 5,
   "metadata": {},
   "outputs": [],
   "source": [
    "llm_max_tokens = 16385"
   ]
  },
  {
   "cell_type": "code",
   "execution_count": 6,
   "metadata": {},
   "outputs": [
    {
     "data": {
      "image/png": "[encoded data removed]",
      "text/plain": [
       "<Figure size 1000x500 with 1 Axes>"
      ]
     },
     "metadata": {},
     "output_type": "display_data"
    }
   ],
   "source": [
    "# plot distribution of token counts in HTMLs\n",
    "\n",
    "longest_html = int(max(html_token_counts))\n",
    "\n",
    "fig, ax = plt.subplots(figsize=(10, 5))\n",
    "\n",
    "ax.hist(html_token_counts, bins=range(0, longest_html + 1000, 1000))\n",
    "ax.set_ylim(ax.get_ylim())\n",
    "ax.vlines([llm_max_tokens], 0, ax.get_ylim()[1], color=\"red\") \n",
    "ax.set_xlabel(\"number of tokens\")\n",
    "ax.set_ylabel(\"number of documents\")\n",
    "plt.suptitle(\"Distribution of HTML lengths (in tokens)\")\n",
    "ax.annotate(\"LLM input\\ntoken limit\", xy=(llm_max_tokens + 200, 35))\n",
    "\n",
    "plt.show()"
   ]
  },
  {
   "cell_type": "code",
   "execution_count": 7,
   "metadata": {},
   "outputs": [
    {
     "data": {
      "image/png": "[encoded data removed]",
      "text/plain": [
       "<Figure size 1000x500 with 1 Axes>"
      ]
     },
     "metadata": {},
     "output_type": "display_data"
    }
   ],
   "source": [
    "# plot distribution of token counts in HTMLs\n",
    "\n",
    "longest_pdf = int(max(pdf_token_counts))\n",
    "\n",
    "fig, ax = plt.subplots(figsize=(10, 5))\n",
    "\n",
    "ax.hist(pdf_token_counts, bins=range(0, longest_pdf + 1000, 1000))\n",
    "ax.set_ylim(ax.get_ylim())\n",
    "ax.vlines([llm_max_tokens], 0, ax.get_ylim()[1], color=\"red\") \n",
    "ax.set_xlabel(\"number of tokens\")\n",
    "ax.set_ylabel(\"number of documents\")\n",
    "plt.suptitle(\"Distribution of PDF lengths (in tokens)\")\n",
    "ax.annotate(\"LLM input\\ntoken limit\", xy=(llm_max_tokens + 400, 30))\n",
    "\n",
    "plt.show()"
   ]
  },
  {
   "cell_type": "code",
   "execution_count": 8,
   "metadata": {},
   "outputs": [
    {
     "name": "stdout",
     "output_type": "stream",
     "text": [
      "number of HTMLs that don't fit the token limit: 2 (1.8%)\n",
      "number of PDFs that don't fit the token limit: 19 (11.8%)\n"
     ]
    }
   ],
   "source": [
    "# Calculate the number of documents that can be processed by the LLM without prior document summarization.\n",
    "# The number of tokens in the document + the number of tokens for instructions in the prompt needs to be\n",
    "# smaller than the maximum number of tokens the model can process.\n",
    "\n",
    "# aproximate tokens buffer for prompt instructions\n",
    "tokens_prompt_inst = 200\n",
    "\n",
    "html_over_limit = html_token_counts > (llm_max_tokens + tokens_prompt_inst)\n",
    "html_over_limit_proportion = round(100 * sum(html_over_limit / len(html_token_counts)), 2)\n",
    "print(f\"number of HTMLs that don't fit the token limit: {sum(html_over_limit)} ({html_over_limit_proportion}%)\")\n",
    "\n",
    "pdf_over_limit = pdf_token_counts > (llm_max_tokens + tokens_prompt_inst)\n",
    "pdf_over_limit_proportion = round(100 * sum(pdf_over_limit / len(pdf_token_counts)), 2)\n",
    "print(f\"number of PDFs that don't fit the token limit: {sum(pdf_over_limit)} ({pdf_over_limit_proportion}%)\")"
   ]
  },
  {
   "cell_type": "markdown",
   "metadata": {},
   "source": [
    "Most documents fit the maximum token input restriction of the GPT-3.5-turbo-0125 model."
   ]
  },
  {
   "cell_type": "markdown",
   "metadata": {},
   "source": [
    "## Metadata Cost Calculation\n",
    "\n",
    "The following code cells calculate an estimation of the cost for creating metadata. The calculation disregards the fact that some documents are too long to fit the token input limit of the model we are using. While there are not a lot of documents that have to summarized for that reason, it would add more cost if we are using an OpenAI LLM for that."
   ]
  },
  {
   "cell_type": "code",
   "execution_count": 9,
   "metadata": {},
   "outputs": [
    {
     "data": {
      "text/plain": [
       "41"
      ]
     },
     "execution_count": 9,
     "metadata": {},
     "output_type": "execute_result"
    }
   ],
   "source": [
    "metadata_example = \"\"\"study_program: M.Sc. Business Informatics\n",
    "short_description: Information about the requirements and procedure for writing a master's thesis in the M.Sc. Business Informatics program at the University of Mannheim.\"\"\"\n",
    "llm.get_num_tokens(metadata_example)"
   ]
  },
  {
   "cell_type": "code",
   "execution_count": 10,
   "metadata": {},
   "outputs": [
    {
     "name": "stdout",
     "output_type": "stream",
     "text": [
      "input cost:\n",
      "\tinput cost for generating meatadata for the HTMLs: 110.16$\n",
      "\tinput cost for generating metadata for the PDFs: 538.69$\n",
      "\ttotal input cost: 648.85$\n",
      "output cost:\n",
      "\toutput cost for generating meatadata for the HTMLs: 8.32$\n",
      "\toutput cost for generating metadata for the PDFs: 12.08$\n",
      "\ttotal output cost: 20.4$\n",
      "total cost:\n",
      "\ttotal cost of metadata generation: 669.25$\n"
     ]
    }
   ],
   "source": [
    "# costs for generating metadata (simplified without considering document summarization)\n",
    "# input cost\n",
    "dollar_per_token_llm_input = 0.0005\n",
    "html_metadata_input_cost = (html_token_counts * dollar_per_token_llm_input).sum()\n",
    "pdf_metadata_input_cost = (pdf_token_counts * dollar_per_token_llm_input).sum()\n",
    "total_metadata_input_cost = html_metadata_input_cost + pdf_metadata_input_cost\n",
    "# output cost\n",
    "dollar_per_token_llm_output = 0.0015\n",
    "avg_metadata_tokens = 50\n",
    "html_metadata_output_cost = len(html_token_counts) * avg_metadata_tokens * dollar_per_token_llm_output\n",
    "pdf_metadata_output_cost = len(pdf_token_counts) * avg_metadata_tokens * dollar_per_token_llm_output\n",
    "total_metadata_output_cost = html_metadata_output_cost + pdf_metadata_output_cost\n",
    "# total cost\n",
    "total_metadata_cost = total_metadata_input_cost + total_metadata_output_cost\n",
    "\n",
    "if sample == True:\n",
    "    print(\"Note: The costs are calculated for a sample only.\")\n",
    "print(\"input cost:\")\n",
    "print(f\"\\tinput cost for generating meatadata for the HTMLs: {round(html_metadata_input_cost, 2)}$\")\n",
    "print(f\"\\tinput cost for generating metadata for the PDFs: {round(pdf_metadata_input_cost, 2)}$\")\n",
    "print(f\"\\ttotal input cost: {round(total_metadata_input_cost, 2)}$\")\n",
    "print(\"output cost:\")\n",
    "print(f\"\\toutput cost for generating meatadata for the HTMLs: {round(html_metadata_output_cost, 2)}$\")\n",
    "print(f\"\\toutput cost for generating metadata for the PDFs: {round(pdf_metadata_output_cost, 2)}$\")\n",
    "print(f\"\\ttotal output cost: {round(total_metadata_output_cost, 2)}$\")\n",
    "print(\"total cost:\")\n",
    "print(f\"\\ttotal cost of metadata generation: {round(total_metadata_cost, 2)}$\")"
   ]
  },
  {
   "cell_type": "markdown",
   "metadata": {},
   "source": [
    "We have to cut the costs if we want to generate metadata with OpenAI. The output cost is fixed, as it only depends on the number of documents and the amount of tokens in the metadata.\n",
    "\n",
    "- We can try to summarize **all** documents, even if they fit the token limit. We would have to significantly reduce the length of the documents to make the cost feasable.\n",
    "- Another option would be to only generate metadata for a selection of documents. But then we would have to make reasonable selection.\n",
    "\n",
    "## Embedding Cost Calculation\n",
    "\n",
    "The following code estimates the cost for creating embeddings."
   ]
  },
  {
   "cell_type": "code",
   "execution_count": 11,
   "metadata": {},
   "outputs": [
    {
     "name": "stdout",
     "output_type": "stream",
     "text": [
      "cost of embedding HTMLs: 4.41$\n",
      "cost of embedding PDFs: 21.55$\n",
      "total cost of embedding: 25.95$\n"
     ]
    }
   ],
   "source": [
    "# costs for calculating embeddings\n",
    "dollar_per_token_emb = 0.00002\n",
    "html_embedding_cost = (html_token_counts * dollar_per_token_emb).sum()\n",
    "pdf_embedding_cost = (pdf_token_counts * dollar_per_token_emb).sum()\n",
    "total_embedding_cost = html_embedding_cost + pdf_embedding_cost\n",
    "\n",
    "if sample == True:\n",
    "    print(\"Note: The costs are calculated for a sample only.\")\n",
    "print(f\"cost of embedding HTMLs: {round(html_embedding_cost, 2)}$\")\n",
    "print(f\"cost of embedding PDFs: {round(pdf_embedding_cost, 2)}$\")\n",
    "print(f\"total cost of embedding: {round(total_embedding_cost, 2)}$\")"
   ]
  },
  {
   "cell_type": "markdown",
   "metadata": {},
   "source": [
    "In comparison to the cost for creating metadata, the cost for creating embeddings is much lower. We could still consider to compute embeddings locally (on the BWCluster) instead of using the OpenAI API."
   ]
  }
 ],
 "metadata": {
  "kernelspec": {
   "display_name": "chatbot",
   "language": "python",
   "name": "python3"
  },
  "language_info": {
   "codemirror_mode": {
    "name": "ipython",
    "version": 3
   },
   "file_extension": ".py",
   "mimetype": "text/x-python",
   "name": "python",
   "nbconvert_exporter": "python",
   "pygments_lexer": "ipython3",
   "version": "3.11.5"
  }
 },
 "nbformat": 4,
 "nbformat_minor": 2
}
